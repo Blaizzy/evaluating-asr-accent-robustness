{
 "cells": [
  {
   "cell_type": "code",
   "execution_count": 1,
   "metadata": {
    "colab": {
     "base_uri": "https://localhost:8080/"
    },
    "id": "aSAY9FQGL1Mz",
    "outputId": "4e12cce0-44ac-4fce-d64d-0ffb9d67a1fe"
   },
   "outputs": [
    {
     "name": "stdout",
     "output_type": "stream",
     "text": [
      "Requirement already satisfied: transformers==4.29.1 in /opt/conda/lib/python3.10/site-packages (4.29.1)\n",
      "Collecting librosa\n",
      "  Downloading librosa-0.10.0.post2-py3-none-any.whl (253 kB)\n",
      "\u001b[2K     \u001b[90m━━━━━━━━━━━━━━━━━━━━━━━━━━━━━━━━━━━━━━━\u001b[0m \u001b[32m253.0/253.0 kB\u001b[0m \u001b[31m4.0 MB/s\u001b[0m eta \u001b[36m0:00:00\u001b[0ma \u001b[36m0:00:01\u001b[0m\n",
      "\u001b[?25hCollecting datasets\n",
      "  Downloading datasets-2.13.1-py3-none-any.whl (486 kB)\n",
      "\u001b[2K     \u001b[90m━━━━━━━━━━━━━━━━━━━━━━━━━━━━━━━━━━━━━━\u001b[0m \u001b[32m486.2/486.2 kB\u001b[0m \u001b[31m18.6 MB/s\u001b[0m eta \u001b[36m0:00:00\u001b[0m\n",
      "\u001b[?25hCollecting jiwer\n",
      "  Downloading jiwer-3.0.2-py3-none-any.whl (21 kB)\n",
      "Requirement already satisfied: regex!=2019.12.17 in /opt/conda/lib/python3.10/site-packages (from transformers==4.29.1) (2023.5.5)\n",
      "Requirement already satisfied: filelock in /opt/conda/lib/python3.10/site-packages (from transformers==4.29.1) (3.9.0)\n",
      "Requirement already satisfied: pyyaml>=5.1 in /opt/conda/lib/python3.10/site-packages (from transformers==4.29.1) (6.0)\n",
      "Requirement already satisfied: numpy>=1.17 in /opt/conda/lib/python3.10/site-packages (from transformers==4.29.1) (1.24.3)\n",
      "Requirement already satisfied: packaging>=20.0 in /opt/conda/lib/python3.10/site-packages (from transformers==4.29.1) (23.0)\n",
      "Requirement already satisfied: huggingface-hub<1.0,>=0.14.1 in /opt/conda/lib/python3.10/site-packages (from transformers==4.29.1) (0.14.1)\n",
      "Requirement already satisfied: tqdm>=4.27 in /opt/conda/lib/python3.10/site-packages (from transformers==4.29.1) (4.65.0)\n",
      "Requirement already satisfied: requests in /opt/conda/lib/python3.10/site-packages (from transformers==4.29.1) (2.29.0)\n",
      "Requirement already satisfied: tokenizers!=0.11.3,<0.14,>=0.11.1 in /opt/conda/lib/python3.10/site-packages (from transformers==4.29.1) (0.13.3)\n",
      "Collecting audioread>=2.1.9\n",
      "  Downloading audioread-3.0.0.tar.gz (377 kB)\n",
      "\u001b[2K     \u001b[90m━━━━━━━━━━━━━━━━━━━━━━━━━━━━━━━━━━━━━━\u001b[0m \u001b[32m377.0/377.0 kB\u001b[0m \u001b[31m67.6 MB/s\u001b[0m eta \u001b[36m0:00:00\u001b[0m\n",
      "\u001b[?25h  Preparing metadata (setup.py) ... \u001b[?25ldone\n",
      "\u001b[?25hCollecting pooch<1.7,>=1.0\n",
      "  Downloading pooch-1.6.0-py3-none-any.whl (56 kB)\n",
      "\u001b[2K     \u001b[90m━━━━━━━━━━━━━━━━━━━━━━━━━━━━━━━━━━━━━━━━\u001b[0m \u001b[32m56.3/56.3 kB\u001b[0m \u001b[31m15.0 MB/s\u001b[0m eta \u001b[36m0:00:00\u001b[0m\n",
      "\u001b[?25hRequirement already satisfied: decorator>=4.3.0 in /opt/conda/lib/python3.10/site-packages (from librosa) (5.1.1)\n",
      "Collecting msgpack>=1.0\n",
      "  Downloading msgpack-1.0.5-cp310-cp310-manylinux_2_17_x86_64.manylinux2014_x86_64.whl (316 kB)\n",
      "\u001b[2K     \u001b[90m━━━━━━━━━━━━━━━━━━━━━━━━━━━━━━━━━━━━━━\u001b[0m \u001b[32m316.8/316.8 kB\u001b[0m \u001b[31m48.1 MB/s\u001b[0m eta \u001b[36m0:00:00\u001b[0m\n",
      "\u001b[?25hRequirement already satisfied: joblib>=0.14 in /opt/conda/lib/python3.10/site-packages (from librosa) (1.2.0)\n",
      "Collecting numba>=0.51.0\n",
      "  Downloading numba-0.57.1-cp310-cp310-manylinux2014_x86_64.manylinux_2_17_x86_64.whl (3.6 MB)\n",
      "\u001b[2K     \u001b[90m━━━━━━━━━━━━━━━━━━━━━━━━━━━━━━━━━━━━━━━━\u001b[0m \u001b[32m3.6/3.6 MB\u001b[0m \u001b[31m34.9 MB/s\u001b[0m eta \u001b[36m0:00:00\u001b[0m00:01\u001b[0m00:01\u001b[0m\n",
      "\u001b[?25hRequirement already satisfied: scipy>=1.2.0 in /opt/conda/lib/python3.10/site-packages (from librosa) (1.10.1)\n",
      "Collecting soundfile>=0.12.1\n",
      "  Downloading soundfile-0.12.1-py2.py3-none-manylinux_2_31_x86_64.whl (1.2 MB)\n",
      "\u001b[2K     \u001b[90m━━━━━━━━━━━━━━━━━━━━━━━━━━━━━━━━━━━━━━━━\u001b[0m \u001b[32m1.2/1.2 MB\u001b[0m \u001b[31m28.5 MB/s\u001b[0m eta \u001b[36m0:00:00\u001b[0m:00:01\u001b[0m\n",
      "\u001b[?25hRequirement already satisfied: typing-extensions>=4.1.1 in /opt/conda/lib/python3.10/site-packages (from librosa) (4.5.0)\n",
      "Collecting soxr>=0.3.2\n",
      "  Downloading soxr-0.3.5-cp310-cp310-manylinux_2_17_x86_64.manylinux2014_x86_64.whl (1.2 MB)\n",
      "\u001b[2K     \u001b[90m━━━━━━━━━━━━━━━━━━━━━━━━━━━━━━━━━━━━━━━━\u001b[0m \u001b[32m1.2/1.2 MB\u001b[0m \u001b[31m88.0 MB/s\u001b[0m eta \u001b[36m0:00:00\u001b[0m\n",
      "\u001b[?25hRequirement already satisfied: lazy-loader>=0.1 in /opt/conda/lib/python3.10/site-packages (from librosa) (0.2)\n",
      "Requirement already satisfied: scikit-learn>=0.20.0 in /opt/conda/lib/python3.10/site-packages (from librosa) (1.2.2)\n",
      "Collecting dill<0.3.7,>=0.3.0\n",
      "  Downloading dill-0.3.6-py3-none-any.whl (110 kB)\n",
      "\u001b[2K     \u001b[90m━━━━━━━━━━━━━━━━━━━━━━━━━━━━━━━━━━━━━━\u001b[0m \u001b[32m110.5/110.5 kB\u001b[0m \u001b[31m37.1 MB/s\u001b[0m eta \u001b[36m0:00:00\u001b[0m\n",
      "\u001b[?25hRequirement already satisfied: pandas in /opt/conda/lib/python3.10/site-packages (from datasets) (2.0.1)\n",
      "Collecting multiprocess\n",
      "  Downloading multiprocess-0.70.14-py310-none-any.whl (134 kB)\n",
      "\u001b[2K     \u001b[90m━━━━━━━━━━━━━━━━━━━━━━━━━━━━━━━━━━━━━━\u001b[0m \u001b[32m134.3/134.3 kB\u001b[0m \u001b[31m46.3 MB/s\u001b[0m eta \u001b[36m0:00:00\u001b[0m\n",
      "\u001b[?25hCollecting aiohttp\n",
      "  Downloading aiohttp-3.8.4-cp310-cp310-manylinux_2_17_x86_64.manylinux2014_x86_64.whl (1.0 MB)\n",
      "\u001b[2K     \u001b[90m━━━━━━━━━━━━━━━━━━━━━━━━━━━━━━━━━━━━━━━━\u001b[0m \u001b[32m1.0/1.0 MB\u001b[0m \u001b[31m89.9 MB/s\u001b[0m eta \u001b[36m0:00:00\u001b[0m\n",
      "\u001b[?25hRequirement already satisfied: fsspec[http]>=2021.11.1 in /opt/conda/lib/python3.10/site-packages (from datasets) (2023.5.0)\n",
      "Collecting xxhash\n",
      "  Downloading xxhash-3.2.0-cp310-cp310-manylinux_2_17_x86_64.manylinux2014_x86_64.whl (212 kB)\n",
      "\u001b[2K     \u001b[90m━━━━━━━━━━━━━━━━━━━━━━━━━━━━━━━━━━━━━━\u001b[0m \u001b[32m212.5/212.5 kB\u001b[0m \u001b[31m42.6 MB/s\u001b[0m eta \u001b[36m0:00:00\u001b[0m\n",
      "\u001b[?25hCollecting pyarrow>=8.0.0\n",
      "  Downloading pyarrow-12.0.1-cp310-cp310-manylinux_2_17_x86_64.manylinux2014_x86_64.whl (38.9 MB)\n",
      "\u001b[2K     \u001b[90m━━━━━━━━━━━━━━━━━━━━━━━━━━━━━━━━━━━━━━━━\u001b[0m \u001b[32m38.9/38.9 MB\u001b[0m \u001b[31m41.6 MB/s\u001b[0m eta \u001b[36m0:00:00\u001b[0m00:01\u001b[0m00:01\u001b[0m\n",
      "\u001b[?25hRequirement already satisfied: click<9.0.0,>=8.1.3 in /opt/conda/lib/python3.10/site-packages (from jiwer) (8.1.3)\n",
      "Collecting rapidfuzz==2.13.7\n",
      "  Downloading rapidfuzz-2.13.7-cp310-cp310-manylinux_2_17_x86_64.manylinux2014_x86_64.whl (2.2 MB)\n",
      "\u001b[2K     \u001b[90m━━━━━━━━━━━━━━━━━━━━━━━━━━━━━━━━━━━━━━━━\u001b[0m \u001b[32m2.2/2.2 MB\u001b[0m \u001b[31m94.8 MB/s\u001b[0m eta \u001b[36m0:00:00\u001b[0m\n",
      "\u001b[?25hCollecting frozenlist>=1.1.1\n",
      "  Downloading frozenlist-1.3.3-cp310-cp310-manylinux_2_5_x86_64.manylinux1_x86_64.manylinux_2_17_x86_64.manylinux2014_x86_64.whl (149 kB)\n",
      "\u001b[2K     \u001b[90m━━━━━━━━━━━━━━━━━━━━━━━━━━━━━━━━━━━━━━\u001b[0m \u001b[32m149.6/149.6 kB\u001b[0m \u001b[31m34.7 MB/s\u001b[0m eta \u001b[36m0:00:00\u001b[0m\n",
      "\u001b[?25hRequirement already satisfied: attrs>=17.3.0 in /opt/conda/lib/python3.10/site-packages (from aiohttp->datasets) (23.1.0)\n",
      "Requirement already satisfied: charset-normalizer<4.0,>=2.0 in /opt/conda/lib/python3.10/site-packages (from aiohttp->datasets) (2.0.4)\n",
      "Collecting aiosignal>=1.1.2\n",
      "  Downloading aiosignal-1.3.1-py3-none-any.whl (7.6 kB)\n",
      "Collecting multidict<7.0,>=4.5\n",
      "  Downloading multidict-6.0.4-cp310-cp310-manylinux_2_17_x86_64.manylinux2014_x86_64.whl (114 kB)\n",
      "\u001b[2K     \u001b[90m━━━━━━━━━━━━━━━━━━━━━━━━━━━━━━━━━━━━━━\u001b[0m \u001b[32m114.5/114.5 kB\u001b[0m \u001b[31m35.6 MB/s\u001b[0m eta \u001b[36m0:00:00\u001b[0m\n",
      "\u001b[?25hCollecting async-timeout<5.0,>=4.0.0a3\n",
      "  Downloading async_timeout-4.0.2-py3-none-any.whl (5.8 kB)\n",
      "Collecting yarl<2.0,>=1.0\n",
      "  Downloading yarl-1.9.2-cp310-cp310-manylinux_2_17_x86_64.manylinux2014_x86_64.whl (268 kB)\n",
      "\u001b[2K     \u001b[90m━━━━━━━━━━━━━━━━━━━━━━━━━━━━━━━━━━━━━━\u001b[0m \u001b[32m268.8/268.8 kB\u001b[0m \u001b[31m43.7 MB/s\u001b[0m eta \u001b[36m0:00:00\u001b[0m\n",
      "\u001b[?25hCollecting llvmlite<0.41,>=0.40.0dev0\n",
      "  Downloading llvmlite-0.40.1-cp310-cp310-manylinux_2_17_x86_64.manylinux2014_x86_64.whl (42.1 MB)\n",
      "\u001b[2K     \u001b[90m━━━━━━━━━━━━━━━━━━━━━━━━━━━━━━━━━━━━━━━━\u001b[0m \u001b[32m42.1/42.1 MB\u001b[0m \u001b[31m36.8 MB/s\u001b[0m eta \u001b[36m0:00:00\u001b[0m00:01\u001b[0m00:01\u001b[0m\n",
      "\u001b[?25hCollecting appdirs>=1.3.0\n",
      "  Downloading appdirs-1.4.4-py2.py3-none-any.whl (9.6 kB)\n",
      "Requirement already satisfied: urllib3<1.27,>=1.21.1 in /opt/conda/lib/python3.10/site-packages (from requests->transformers==4.29.1) (1.26.15)\n",
      "Requirement already satisfied: idna<4,>=2.5 in /opt/conda/lib/python3.10/site-packages (from requests->transformers==4.29.1) (3.4)\n",
      "Requirement already satisfied: certifi>=2017.4.17 in /opt/conda/lib/python3.10/site-packages (from requests->transformers==4.29.1) (2023.5.7)\n",
      "Requirement already satisfied: threadpoolctl>=2.0.0 in /opt/conda/lib/python3.10/site-packages (from scikit-learn>=0.20.0->librosa) (3.1.0)\n",
      "Requirement already satisfied: cffi>=1.0 in /opt/conda/lib/python3.10/site-packages (from soundfile>=0.12.1->librosa) (1.15.1)\n",
      "Requirement already satisfied: pytz>=2020.1 in /opt/conda/lib/python3.10/site-packages (from pandas->datasets) (2022.7)\n",
      "Requirement already satisfied: python-dateutil>=2.8.2 in /opt/conda/lib/python3.10/site-packages (from pandas->datasets) (2.8.2)\n",
      "Requirement already satisfied: tzdata>=2022.1 in /opt/conda/lib/python3.10/site-packages (from pandas->datasets) (2023.3)\n",
      "Requirement already satisfied: pycparser in /opt/conda/lib/python3.10/site-packages (from cffi>=1.0->soundfile>=0.12.1->librosa) (2.21)\n",
      "Requirement already satisfied: six>=1.5 in /opt/conda/lib/python3.10/site-packages (from python-dateutil>=2.8.2->pandas->datasets) (1.16.0)\n",
      "Building wheels for collected packages: audioread\n",
      "  Building wheel for audioread (setup.py) ... \u001b[?25ldone\n",
      "\u001b[?25h  Created wheel for audioread: filename=audioread-3.0.0-py3-none-any.whl size=23704 sha256=158241cd5c71b97f486f732e2b3c205c7991de562b244390e960c1977eca0614\n",
      "  Stored in directory: /home/.cache/pip/wheels/da/4b/39/c5f6c4ee93b43281dda4dab5ac5f2bdf9d11074d427493cd55\n",
      "Successfully built audioread\n",
      "Installing collected packages: msgpack, appdirs, xxhash, soxr, rapidfuzz, pyarrow, multidict, llvmlite, frozenlist, dill, audioread, async-timeout, yarl, soundfile, pooch, numba, multiprocess, jiwer, aiosignal, librosa, aiohttp, datasets\n",
      "Successfully installed aiohttp-3.8.4 aiosignal-1.3.1 appdirs-1.4.4 async-timeout-4.0.2 audioread-3.0.0 datasets-2.13.1 dill-0.3.6 frozenlist-1.3.3 jiwer-3.0.2 librosa-0.10.0.post2 llvmlite-0.40.1 msgpack-1.0.5 multidict-6.0.4 multiprocess-0.70.14 numba-0.57.1 pooch-1.6.0 pyarrow-12.0.1 rapidfuzz-2.13.7 soundfile-0.12.1 soxr-0.3.5 xxhash-3.2.0 yarl-1.9.2\n",
      "\u001b[33mWARNING: Running pip as the 'root' user can result in broken permissions and conflicting behaviour with the system package manager. It is recommended to use a virtual environment instead: https://pip.pypa.io/warnings/venv\u001b[0m\u001b[33m\n",
      "\u001b[0m"
     ]
    }
   ],
   "source": [
    "!pip install transformers==4.29.1 librosa datasets jiwer"
   ]
  },
  {
   "cell_type": "code",
   "execution_count": 2,
   "metadata": {
    "id": "1j-3471PL1M0"
   },
   "outputs": [],
   "source": [
    "import os\n",
    "import time\n",
    "from multiprocessing import get_context\n",
    "\n",
    "from tqdm import tqdm\n",
    "from datasets import load_dataset, Audio\n",
    "import pandas as pd\n",
    "\n",
    "from transformers import Wav2Vec2ForCTC, AutoProcessor\n",
    "from transformers import HubertForCTC\n",
    "from transformers import WhisperProcessor, WhisperForConditionalGeneration\n",
    "\n",
    "\n",
    "import torch"
   ]
  },
  {
   "cell_type": "markdown",
   "metadata": {},
   "source": [
    "# Get model Predictions"
   ]
  },
  {
   "cell_type": "code",
   "execution_count": 3,
   "metadata": {
    "colab": {
     "base_uri": "https://localhost:8080/",
     "height": 86,
     "referenced_widgets": [
      "b1c8d16b62354e34895abfb6883cbf8e",
      "1043e61c829447c49f91fedf5e084ca1",
      "dcbf527f82ae4fb080430f6c0e4d730e",
      "4bae8f05aebc4daa846fc1195b24e16d",
      "feb4417dd5c64fe5929b42943150e880",
      "e9138f69f568471398b7aa2f27026619",
      "5bee91bb680f43c3b07714149fe67caa",
      "5aab0832224d42dea3f5552ff40c8224",
      "7fa2d84364564f5bb41edc465114eb6a",
      "3fdb96eaf3934e5ca3d3dd91e3be6bb6",
      "7e3abb71794140b9b84d6016dc2328de"
     ]
    },
    "id": "wSLNpxKfL1M1",
    "outputId": "5cf40165-a232-49b4-bee1-e9d9492c8d07"
   },
   "outputs": [
    {
     "data": {
      "application/vnd.jupyter.widget-view+json": {
       "model_id": "385392966b5345059b5455f952a1b246",
       "version_major": 2,
       "version_minor": 0
      },
      "text/plain": [
       "Downloading readme:   0%|          | 0.00/425 [00:00<?, ?B/s]"
      ]
     },
     "metadata": {},
     "output_type": "display_data"
    },
    {
     "name": "stdout",
     "output_type": "stream",
     "text": [
      "Downloading and preparing dataset None/None to /home/.cache/huggingface/datasets/prince-canuma___parquet/prince-canuma--accentsDB-with-transcripts-dabed51a66149d1f/0.0.0/14a00e99c0d15a23649d0db8944380ac81082d4b021f398733dd84f3a6c569a7...\n"
     ]
    },
    {
     "data": {
      "application/vnd.jupyter.widget-view+json": {
       "model_id": "df8a9c8b64cf4699898c8eb8763438fa",
       "version_major": 2,
       "version_minor": 0
      },
      "text/plain": [
       "Downloading data files:   0%|          | 0/1 [00:00<?, ?it/s]"
      ]
     },
     "metadata": {},
     "output_type": "display_data"
    },
    {
     "data": {
      "application/vnd.jupyter.widget-view+json": {
       "model_id": "0a0d3b9e906848b7be727c9d7ff9ee2a",
       "version_major": 2,
       "version_minor": 0
      },
      "text/plain": [
       "Downloading data:   0%|          | 0.00/302M [00:00<?, ?B/s]"
      ]
     },
     "metadata": {},
     "output_type": "display_data"
    },
    {
     "data": {
      "application/vnd.jupyter.widget-view+json": {
       "model_id": "0414b7a4cd9d4b8e8b49019e814cba75",
       "version_major": 2,
       "version_minor": 0
      },
      "text/plain": [
       "Downloading data:   0%|          | 0.00/309M [00:00<?, ?B/s]"
      ]
     },
     "metadata": {},
     "output_type": "display_data"
    },
    {
     "data": {
      "application/vnd.jupyter.widget-view+json": {
       "model_id": "f236f73b964043b5b8e726f4f78e9d34",
       "version_major": 2,
       "version_minor": 0
      },
      "text/plain": [
       "Downloading data:   0%|          | 0.00/776M [00:00<?, ?B/s]"
      ]
     },
     "metadata": {},
     "output_type": "display_data"
    },
    {
     "data": {
      "application/vnd.jupyter.widget-view+json": {
       "model_id": "719dc4c812834db58e46ee41ecb74d08",
       "version_major": 2,
       "version_minor": 0
      },
      "text/plain": [
       "Downloading data:   0%|          | 0.00/728M [00:00<?, ?B/s]"
      ]
     },
     "metadata": {},
     "output_type": "display_data"
    },
    {
     "data": {
      "application/vnd.jupyter.widget-view+json": {
       "model_id": "fceb1d2e9f2a44dd925b2fd5f45441cd",
       "version_major": 2,
       "version_minor": 0
      },
      "text/plain": [
       "Extracting data files:   0%|          | 0/1 [00:00<?, ?it/s]"
      ]
     },
     "metadata": {},
     "output_type": "display_data"
    },
    {
     "data": {
      "application/vnd.jupyter.widget-view+json": {
       "model_id": "",
       "version_major": 2,
       "version_minor": 0
      },
      "text/plain": [
       "Generating train split:   0%|          | 0/12585 [00:00<?, ? examples/s]"
      ]
     },
     "metadata": {},
     "output_type": "display_data"
    },
    {
     "name": "stdout",
     "output_type": "stream",
     "text": [
      "Dataset parquet downloaded and prepared to /home/.cache/huggingface/datasets/prince-canuma___parquet/prince-canuma--accentsDB-with-transcripts-dabed51a66149d1f/0.0.0/14a00e99c0d15a23649d0db8944380ac81082d4b021f398733dd84f3a6c569a7. Subsequent calls will reuse this data.\n"
     ]
    },
    {
     "data": {
      "application/vnd.jupyter.widget-view+json": {
       "model_id": "2f526993b3844d8ba9812eda3523c251",
       "version_major": 2,
       "version_minor": 0
      },
      "text/plain": [
       "  0%|          | 0/1 [00:00<?, ?it/s]"
      ]
     },
     "metadata": {},
     "output_type": "display_data"
    }
   ],
   "source": [
    "# dataset = load_dataset(\"audiofolder\", data_dir=\"../accentsDB\")\n",
    "dataset = load_dataset(\"prince-canuma/accentsDB-with-transcripts\")"
   ]
  },
  {
   "cell_type": "code",
   "execution_count": null,
   "metadata": {
    "id": "VvFa8zI6L1M1",
    "outputId": "5e48a4e3-acd4-4458-f8b1-cd91ffeac697"
   },
   "outputs": [
    {
     "data": {
      "text/plain": [
       "DatasetDict({\n",
       "    train: Dataset({\n",
       "        features: ['audio', 'transcription'],\n",
       "        num_rows: 12585\n",
       "    })\n",
       "})"
      ]
     },
     "execution_count": 3,
     "metadata": {},
     "output_type": "execute_result"
    }
   ],
   "source": [
    "dataset"
   ]
  },
  {
   "cell_type": "code",
   "execution_count": null,
   "metadata": {
    "id": "fRUy7JV6L1M1",
    "outputId": "86653a27-1f2a-4601-d34d-13a5b0aee92d"
   },
   "outputs": [
    {
     "data": {
      "text/plain": [
       "{'path': '/Users/prince_canuma/Documents/Projects/MSc thesis/accentsDB/data/american/speaker_01/american_s01_003.wav',\n",
       " 'array': array([0., 0., 0., ..., 0., 0., 0.]),\n",
       " 'sampling_rate': 22050}"
      ]
     },
     "execution_count": 4,
     "metadata": {},
     "output_type": "execute_result"
    }
   ],
   "source": [
    "dataset['train'][2]['audio']"
   ]
  },
  {
   "cell_type": "code",
   "execution_count": 4,
   "metadata": {
    "id": "XBMK3-HAL1M1"
   },
   "outputs": [],
   "source": [
    "def map_to_array(batch):\n",
    "    batch[\"speech\"] = batch[\"audio\"][\"array\"]\n",
    "    return batch\n",
    "\n",
    "def remove_punctuation(input_string):\n",
    "    # Remove punctuation characters from the input string\n",
    "    no_punct_string = input_string.replace(\".\", \"\")\n",
    "    return no_punct_string\n",
    "\n",
    "def map_to_pred(batch, pool, model_name, model, processor):\n",
    "    if \"whisper\" in model_name:\n",
    "        inputs = processor(batch[\"speech\"], sampling_rate=16000, return_tensors=\"pt\")\n",
    "    else:\n",
    "        inputs = processor(batch[\"speech\"], sampling_rate=16000, return_tensors=\"pt\", padding=True)\n",
    "\n",
    "    inputs = {k: inputs[k].to(\"cuda\") for k in inputs}\n",
    "\n",
    "    with torch.no_grad():\n",
    "        if \"whisper\" in model_name:\n",
    "            predicted_ids = model.generate(**inputs)[0]\n",
    "        else:\n",
    "            logits = model(**inputs).logits\n",
    "    if \"whisper\" in model_name:\n",
    "        transcription = processor.decode(predicted_ids.cpu().numpy(), skip_special_tokens=True, pool=pool)\n",
    "    else:\n",
    "        predicted_ids = torch.argmax(logits, dim=-1)\n",
    "        transcription = processor.batch_decode(predicted_ids, pool)\n",
    "\n",
    "    batch[f\"transcription_{model_name}\"] = transcription\n",
    "    return batch"
   ]
  },
  {
   "cell_type": "code",
   "execution_count": 5,
   "metadata": {
    "colab": {
     "base_uri": "https://localhost:8080/"
    },
    "id": "laiLP9WaL1M2",
    "outputId": "1b7e45e2-7e59-48a9-b38a-59e3251e4c99"
   },
   "outputs": [
    {
     "data": {
      "application/vnd.jupyter.widget-view+json": {
       "model_id": "",
       "version_major": 2,
       "version_minor": 0
      },
      "text/plain": [
       "Map:   0%|          | 0/12585 [00:00<?, ? examples/s]"
      ]
     },
     "metadata": {},
     "output_type": "display_data"
    }
   ],
   "source": [
    "dataset = dataset.map(map_to_array, remove_columns=[\"audio\"])"
   ]
  },
  {
   "cell_type": "code",
   "execution_count": 6,
   "metadata": {
    "id": "Ljik0gYhL1M2"
   },
   "outputs": [],
   "source": [
    "def get_transcriptions(model_name, model, processor, batched, batch_size):\n",
    "\n",
    "    with get_context(\"fork\").Pool(processes=2) as pool:\n",
    "\n",
    "        return dataset.map(\n",
    "            map_to_pred,\n",
    "            batched=batched,\n",
    "            batch_size=batch_size,\n",
    "            remove_columns=[\"speech\"],\n",
    "            fn_kwargs={\"processor\": processor, \"model_name\": model_name, \"model\": model, \"pool\": pool},\n",
    "        )\n",
    "\n",
    "def save_predictions(model_name, model, processor, batched=True, batch_size=2):\n",
    "\n",
    "    result = get_transcriptions(model_name, model, processor, batched, batch_size)\n",
    "    result[\"train\"].to_pandas().to_csv(f\"../results/{model_name}_results.csv\",index=False)"
   ]
  },
  {
   "cell_type": "code",
   "execution_count": 7,
   "metadata": {
    "colab": {
     "base_uri": "https://localhost:8080/",
     "height": 954,
     "referenced_widgets": [
      "b0991480a40d4dbc87f09e1382be2955",
      "becff2ec10d64e1f89f85db3ebd9ba08",
      "e97e9c7e7a134ca0a5cd0aef4ffe55de",
      "69b4233d07cb4f858a454ef417f4b123",
      "d512544c776e4262b76a6c64423361fc",
      "1ccbba86e9824d57ab9dfe1005613bd5",
      "729cbcbbb6a24fd9a4c20bea31349bb4",
      "04cd120c494a41189ad864aa2251b4bc",
      "49dfccea0ff34dc893ff560b93248244",
      "47cc1379d4694571932c0d62489162b3",
      "66576ca4a2d6469a86eccf7297ab2685"
     ]
    },
    "id": "qBLNl1WUL1M2",
    "outputId": "d1b47263-43ff-44ef-c8de-b5865525f3be"
   },
   "outputs": [
    {
     "data": {
      "application/vnd.jupyter.widget-view+json": {
       "model_id": "2e228e7918af464ba5defcb5042860bb",
       "version_major": 2,
       "version_minor": 0
      },
      "text/plain": [
       "Downloading (…)rocessor_config.json:   0%|          | 0.00/159 [00:00<?, ?B/s]"
      ]
     },
     "metadata": {},
     "output_type": "display_data"
    },
    {
     "data": {
      "application/vnd.jupyter.widget-view+json": {
       "model_id": "0ce932cd00be420c9a06a0768b8ea1c6",
       "version_major": 2,
       "version_minor": 0
      },
      "text/plain": [
       "Downloading (…)okenizer_config.json:   0%|          | 0.00/163 [00:00<?, ?B/s]"
      ]
     },
     "metadata": {},
     "output_type": "display_data"
    },
    {
     "data": {
      "application/vnd.jupyter.widget-view+json": {
       "model_id": "cc608367f07d4f13b21f73a744e0ded5",
       "version_major": 2,
       "version_minor": 0
      },
      "text/plain": [
       "Downloading (…)lve/main/config.json: 0.00B [00:00, ?B/s]"
      ]
     },
     "metadata": {},
     "output_type": "display_data"
    },
    {
     "data": {
      "application/vnd.jupyter.widget-view+json": {
       "model_id": "af559204ac0d42f8a21dc0d58b7482a1",
       "version_major": 2,
       "version_minor": 0
      },
      "text/plain": [
       "Downloading (…)olve/main/vocab.json:   0%|          | 0.00/291 [00:00<?, ?B/s]"
      ]
     },
     "metadata": {},
     "output_type": "display_data"
    },
    {
     "data": {
      "application/vnd.jupyter.widget-view+json": {
       "model_id": "4c4cf33bb39d4bc5b0a71c693995850c",
       "version_major": 2,
       "version_minor": 0
      },
      "text/plain": [
       "Downloading (…)cial_tokens_map.json:   0%|          | 0.00/85.0 [00:00<?, ?B/s]"
      ]
     },
     "metadata": {},
     "output_type": "display_data"
    },
    {
     "data": {
      "application/vnd.jupyter.widget-view+json": {
       "model_id": "a4ca25fcd41c4757844a95715f76bb95",
       "version_major": 2,
       "version_minor": 0
      },
      "text/plain": [
       "Downloading pytorch_model.bin:   0%|          | 0.00/378M [00:00<?, ?B/s]"
      ]
     },
     "metadata": {},
     "output_type": "display_data"
    },
    {
     "name": "stderr",
     "output_type": "stream",
     "text": [
      "Some weights of Wav2Vec2ForCTC were not initialized from the model checkpoint at facebook/wav2vec2-base-960h and are newly initialized: ['wav2vec2.masked_spec_embed']\n",
      "You should probably TRAIN this model on a down-stream task to be able to use it for predictions and inference.\n",
      "Parameter 'fn_kwargs'={'processor': Wav2Vec2Processor:\n",
      "- feature_extractor: Wav2Vec2FeatureExtractor {\n",
      "  \"do_normalize\": true,\n",
      "  \"feature_extractor_type\": \"Wav2Vec2FeatureExtractor\",\n",
      "  \"feature_size\": 1,\n",
      "  \"padding_side\": \"right\",\n",
      "  \"padding_value\": 0.0,\n",
      "  \"return_attention_mask\": false,\n",
      "  \"sampling_rate\": 16000\n",
      "}\n",
      "\n",
      "- tokenizer: Wav2Vec2CTCTokenizer(name_or_path='facebook/wav2vec2-base-960h', vocab_size=32, model_max_length=9223372036854775807, is_fast=False, padding_side='right', truncation_side='right', special_tokens={'bos_token': '<s>', 'eos_token': '</s>', 'unk_token': '<unk>', 'pad_token': '<pad>'}, clean_up_tokenization_spaces=True), 'model_name': 'wav2vec2', 'model': Wav2Vec2ForCTC(\n",
      "  (wav2vec2): Wav2Vec2Model(\n",
      "    (feature_extractor): Wav2Vec2FeatureEncoder(\n",
      "      (conv_layers): ModuleList(\n",
      "        (0): Wav2Vec2GroupNormConvLayer(\n",
      "          (conv): Conv1d(1, 512, kernel_size=(10,), stride=(5,), bias=False)\n",
      "          (activation): GELUActivation()\n",
      "          (layer_norm): GroupNorm(512, 512, eps=1e-05, affine=True)\n",
      "        )\n",
      "        (1-4): 4 x Wav2Vec2NoLayerNormConvLayer(\n",
      "          (conv): Conv1d(512, 512, kernel_size=(3,), stride=(2,), bias=False)\n",
      "          (activation): GELUActivation()\n",
      "        )\n",
      "        (5-6): 2 x Wav2Vec2NoLayerNormConvLayer(\n",
      "          (conv): Conv1d(512, 512, kernel_size=(2,), stride=(2,), bias=False)\n",
      "          (activation): GELUActivation()\n",
      "        )\n",
      "      )\n",
      "    )\n",
      "    (feature_projection): Wav2Vec2FeatureProjection(\n",
      "      (layer_norm): LayerNorm((512,), eps=1e-05, elementwise_affine=True)\n",
      "      (projection): Linear(in_features=512, out_features=768, bias=True)\n",
      "      (dropout): Dropout(p=0.1, inplace=False)\n",
      "    )\n",
      "    (encoder): Wav2Vec2Encoder(\n",
      "      (pos_conv_embed): Wav2Vec2PositionalConvEmbedding(\n",
      "        (conv): Conv1d(768, 768, kernel_size=(128,), stride=(1,), padding=(64,), groups=16)\n",
      "        (padding): Wav2Vec2SamePadLayer()\n",
      "        (activation): GELUActivation()\n",
      "      )\n",
      "      (layer_norm): LayerNorm((768,), eps=1e-05, elementwise_affine=True)\n",
      "      (dropout): Dropout(p=0.1, inplace=False)\n",
      "      (layers): ModuleList(\n",
      "        (0-11): 12 x Wav2Vec2EncoderLayer(\n",
      "          (attention): Wav2Vec2Attention(\n",
      "            (k_proj): Linear(in_features=768, out_features=768, bias=True)\n",
      "            (v_proj): Linear(in_features=768, out_features=768, bias=True)\n",
      "            (q_proj): Linear(in_features=768, out_features=768, bias=True)\n",
      "            (out_proj): Linear(in_features=768, out_features=768, bias=True)\n",
      "          )\n",
      "          (dropout): Dropout(p=0.1, inplace=False)\n",
      "          (layer_norm): LayerNorm((768,), eps=1e-05, elementwise_affine=True)\n",
      "          (feed_forward): Wav2Vec2FeedForward(\n",
      "            (intermediate_dropout): Dropout(p=0.1, inplace=False)\n",
      "            (intermediate_dense): Linear(in_features=768, out_features=3072, bias=True)\n",
      "            (intermediate_act_fn): GELUActivation()\n",
      "            (output_dense): Linear(in_features=3072, out_features=768, bias=True)\n",
      "            (output_dropout): Dropout(p=0.1, inplace=False)\n",
      "          )\n",
      "          (final_layer_norm): LayerNorm((768,), eps=1e-05, elementwise_affine=True)\n",
      "        )\n",
      "      )\n",
      "    )\n",
      "  )\n",
      "  (dropout): Dropout(p=0.1, inplace=False)\n",
      "  (lm_head): Linear(in_features=768, out_features=32, bias=True)\n",
      "), 'pool': <multiprocessing.pool.Pool state=RUN pool_size=2>} of the transform datasets.arrow_dataset.Dataset._map_single couldn't be hashed properly, a random hash was used instead. Make sure your transforms and parameters are serializable with pickle or dill for the dataset fingerprinting and caching to work. If you reuse this transform, the caching mechanism will consider it to be different from the previous calls and recompute everything. This warning is only showed once. Subsequent hashing failures won't be showed.\n"
     ]
    },
    {
     "data": {
      "application/vnd.jupyter.widget-view+json": {
       "model_id": "",
       "version_major": 2,
       "version_minor": 0
      },
      "text/plain": [
       "Map:   0%|          | 0/12585 [00:00<?, ? examples/s]"
      ]
     },
     "metadata": {},
     "output_type": "display_data"
    }
   ],
   "source": [
    "wav2vec2_processor = AutoProcessor.from_pretrained(\"facebook/wav2vec2-base-960h\")\n",
    "wav2vec2 = Wav2Vec2ForCTC.from_pretrained(\"facebook/wav2vec2-base-960h\").to(\"cuda\")\n",
    "\n",
    "save_predictions(\"wav2vec2\", wav2vec2, wav2vec2_processor, batch_size=8)"
   ]
  },
  {
   "cell_type": "code",
   "execution_count": 8,
   "metadata": {
    "colab": {
     "base_uri": "https://localhost:8080/",
     "height": 899,
     "referenced_widgets": [
      "fe59e229888d46b5add4d5615dcadec5",
      "77473cb7a8b3499087705787fcc8c697",
      "bb74729de2db47fbb23ac43b88d54a8a",
      "80553f6386ca432f86c088b1230466cf",
      "1dd7048c5c874a4182ed6bc55d1044b1",
      "6f9c629ad1c2415f829ace4f01c06cbb",
      "f664ee66cb174894961084bac4458e64",
      "26a68154158142e8907f9cb00e2c0208",
      "22d0dd38cd054d47a65d6740b27aafe4",
      "4c9a829e56bc490ea943a2293455a914",
      "d90ab2c021c94e1b98c0a02a2ffeec26"
     ]
    },
    "id": "O78MTY1Icdsv",
    "outputId": "055a643b-cdac-4b9a-891b-aa00372d5264"
   },
   "outputs": [
    {
     "data": {
      "application/vnd.jupyter.widget-view+json": {
       "model_id": "5a7312a712ff447cb23a69b44e6ffb25",
       "version_major": 2,
       "version_minor": 0
      },
      "text/plain": [
       "Downloading (…)rocessor_config.json:   0%|          | 0.00/212 [00:00<?, ?B/s]"
      ]
     },
     "metadata": {},
     "output_type": "display_data"
    },
    {
     "data": {
      "application/vnd.jupyter.widget-view+json": {
       "model_id": "ca9ced9d5af04d0b9fd81a97b8546b04",
       "version_major": 2,
       "version_minor": 0
      },
      "text/plain": [
       "Downloading (…)okenizer_config.json:   0%|          | 0.00/138 [00:00<?, ?B/s]"
      ]
     },
     "metadata": {},
     "output_type": "display_data"
    },
    {
     "data": {
      "application/vnd.jupyter.widget-view+json": {
       "model_id": "dec0d8a85aba42faa1b8f4a5cf169e1d",
       "version_major": 2,
       "version_minor": 0
      },
      "text/plain": [
       "Downloading (…)lve/main/config.json: 0.00B [00:00, ?B/s]"
      ]
     },
     "metadata": {},
     "output_type": "display_data"
    },
    {
     "data": {
      "application/vnd.jupyter.widget-view+json": {
       "model_id": "1954a403c457405a93c49f73b6542831",
       "version_major": 2,
       "version_minor": 0
      },
      "text/plain": [
       "Downloading (…)olve/main/vocab.json:   0%|          | 0.00/291 [00:00<?, ?B/s]"
      ]
     },
     "metadata": {},
     "output_type": "display_data"
    },
    {
     "data": {
      "application/vnd.jupyter.widget-view+json": {
       "model_id": "46baccffcba341a9af7de2fac88ab229",
       "version_major": 2,
       "version_minor": 0
      },
      "text/plain": [
       "Downloading (…)cial_tokens_map.json:   0%|          | 0.00/85.0 [00:00<?, ?B/s]"
      ]
     },
     "metadata": {},
     "output_type": "display_data"
    },
    {
     "data": {
      "application/vnd.jupyter.widget-view+json": {
       "model_id": "4f0a1d7e84824f679d03c88288d127d6",
       "version_major": 2,
       "version_minor": 0
      },
      "text/plain": [
       "Downloading pytorch_model.bin:   0%|          | 0.00/1.26G [00:00<?, ?B/s]"
      ]
     },
     "metadata": {},
     "output_type": "display_data"
    },
    {
     "data": {
      "application/vnd.jupyter.widget-view+json": {
       "model_id": "",
       "version_major": 2,
       "version_minor": 0
      },
      "text/plain": [
       "Map:   0%|          | 0/12585 [00:00<?, ? examples/s]"
      ]
     },
     "metadata": {},
     "output_type": "display_data"
    }
   ],
   "source": [
    "hubert_processor = AutoProcessor.from_pretrained(\"facebook/hubert-large-ls960-ft\")\n",
    "hubert = HubertForCTC.from_pretrained(\"facebook/hubert-large-ls960-ft\").to(\"cuda\")\n",
    "save_predictions(\"hubert\", hubert, hubert_processor)"
   ]
  },
  {
   "cell_type": "code",
   "execution_count": 9,
   "metadata": {
    "colab": {
     "base_uri": "https://localhost:8080/",
     "height": 503,
     "referenced_widgets": [
      "0a7eb55df3af41e9bb8d4e8797a48d1a",
      "637d6b1907aa45b288abb720ac37d205",
      "20047ab3f8f94dbe9271739db0e8b6a5",
      "f5147456c9384fa09aaaa5ce3d06b70b",
      "f1bdd26cf8964b58a0ddd555dc19d082",
      "a066b9a45d0347b48273005b27c626b5",
      "73efc16a5de942ea915c0ad80f3e14fd",
      "9e3c1159981c4296a9ed66d5331fbbaa",
      "75a34a8f061b4827b09ddff5d839be44",
      "83470ca33d3b4a51a955a4d9881922cf",
      "8492870e1bf542b28ae7e07ba952f787"
     ]
    },
    "id": "1_Qxb7pBcm6a",
    "outputId": "c16eeb92-ad29-444c-81ff-e0cbc234b1e4"
   },
   "outputs": [
    {
     "data": {
      "application/vnd.jupyter.widget-view+json": {
       "model_id": "517a0d62966b422fabc8d91c6445db1e",
       "version_major": 2,
       "version_minor": 0
      },
      "text/plain": [
       "Downloading (…)rocessor_config.json: 0.00B [00:00, ?B/s]"
      ]
     },
     "metadata": {},
     "output_type": "display_data"
    },
    {
     "data": {
      "application/vnd.jupyter.widget-view+json": {
       "model_id": "da538e57c8804d9593033b6ff5a087e7",
       "version_major": 2,
       "version_minor": 0
      },
      "text/plain": [
       "Downloading (…)okenizer_config.json:   0%|          | 0.00/840 [00:00<?, ?B/s]"
      ]
     },
     "metadata": {},
     "output_type": "display_data"
    },
    {
     "data": {
      "application/vnd.jupyter.widget-view+json": {
       "model_id": "e4d4d32769964a63b4c8d4550a0672b4",
       "version_major": 2,
       "version_minor": 0
      },
      "text/plain": [
       "Downloading (…)olve/main/vocab.json: 0.00B [00:00, ?B/s]"
      ]
     },
     "metadata": {},
     "output_type": "display_data"
    },
    {
     "data": {
      "application/vnd.jupyter.widget-view+json": {
       "model_id": "8a7643a643ef41d3a0a40a8c35eb0aee",
       "version_major": 2,
       "version_minor": 0
      },
      "text/plain": [
       "Downloading (…)/main/tokenizer.json: 0.00B [00:00, ?B/s]"
      ]
     },
     "metadata": {},
     "output_type": "display_data"
    },
    {
     "data": {
      "application/vnd.jupyter.widget-view+json": {
       "model_id": "b8ab699d6a8744fbbdd3daa16476b021",
       "version_major": 2,
       "version_minor": 0
      },
      "text/plain": [
       "Downloading (…)olve/main/merges.txt: 0.00B [00:00, ?B/s]"
      ]
     },
     "metadata": {},
     "output_type": "display_data"
    },
    {
     "data": {
      "application/vnd.jupyter.widget-view+json": {
       "model_id": "efd9854399674c0dbae4db1cd4012eea",
       "version_major": 2,
       "version_minor": 0
      },
      "text/plain": [
       "Downloading (…)main/normalizer.json: 0.00B [00:00, ?B/s]"
      ]
     },
     "metadata": {},
     "output_type": "display_data"
    },
    {
     "data": {
      "application/vnd.jupyter.widget-view+json": {
       "model_id": "e1682985377d4c83a4808deb6ba5e6e0",
       "version_major": 2,
       "version_minor": 0
      },
      "text/plain": [
       "Downloading (…)in/added_tokens.json: 0.00B [00:00, ?B/s]"
      ]
     },
     "metadata": {},
     "output_type": "display_data"
    },
    {
     "data": {
      "application/vnd.jupyter.widget-view+json": {
       "model_id": "a1fe353b89c042818c3011dcc67e77e4",
       "version_major": 2,
       "version_minor": 0
      },
      "text/plain": [
       "Downloading (…)cial_tokens_map.json: 0.00B [00:00, ?B/s]"
      ]
     },
     "metadata": {},
     "output_type": "display_data"
    },
    {
     "data": {
      "application/vnd.jupyter.widget-view+json": {
       "model_id": "dfba51d977264e25968ed86fdbde80e9",
       "version_major": 2,
       "version_minor": 0
      },
      "text/plain": [
       "Downloading (…)lve/main/config.json: 0.00B [00:00, ?B/s]"
      ]
     },
     "metadata": {},
     "output_type": "display_data"
    },
    {
     "data": {
      "application/vnd.jupyter.widget-view+json": {
       "model_id": "6f6bf5538cd8498f90366775c6c24a3c",
       "version_major": 2,
       "version_minor": 0
      },
      "text/plain": [
       "Downloading pytorch_model.bin:   0%|          | 0.00/290M [00:00<?, ?B/s]"
      ]
     },
     "metadata": {},
     "output_type": "display_data"
    },
    {
     "data": {
      "application/vnd.jupyter.widget-view+json": {
       "model_id": "9f0d615441eb49fdb97eb81203a78457",
       "version_major": 2,
       "version_minor": 0
      },
      "text/plain": [
       "Downloading (…)neration_config.json: 0.00B [00:00, ?B/s]"
      ]
     },
     "metadata": {},
     "output_type": "display_data"
    },
    {
     "data": {
      "application/vnd.jupyter.widget-view+json": {
       "model_id": "",
       "version_major": 2,
       "version_minor": 0
      },
      "text/plain": [
       "Map:   0%|          | 0/12585 [00:00<?, ? examples/s]"
      ]
     },
     "metadata": {},
     "output_type": "display_data"
    },
    {
     "name": "stderr",
     "output_type": "stream",
     "text": [
      "/opt/conda/lib/python3.10/site-packages/transformers/generation/utils.py:1346: UserWarning: Using `max_length`'s default (448) to control the generation length. This behaviour is deprecated and will be removed from the config in v5 of Transformers -- we recommend using `max_new_tokens` to control the maximum length of the generation.\n",
      "  warnings.warn(\n"
     ]
    }
   ],
   "source": [
    "whisper_base_processor = WhisperProcessor.from_pretrained(\"openai/whisper-base\")\n",
    "whisper_base = WhisperForConditionalGeneration.from_pretrained(\"openai/whisper-base\").to(\"cuda\")\n",
    "\n",
    "save_predictions(\"whisper_base\", whisper_base, whisper_base_processor, batched=False, batch_size=1)"
   ]
  },
  {
   "cell_type": "code",
   "execution_count": 10,
   "metadata": {
    "colab": {
     "base_uri": "https://localhost:8080/",
     "height": 813,
     "referenced_widgets": [
      "a1ab76f9a4314d7cb3a70fd530a843c4",
      "b941235e3b1441658845d1cfbf7f0296",
      "1c33b46e9b734144a9da00f0ad73a359",
      "7595e0fce3ce4b68b949290d08e1df3b",
      "44dc931fc72e4c3789e5c745184e132e",
      "6778609b42c946e899220adad8b0fc7b",
      "c9dd984db232428eace07d1d0e04c73f",
      "c9a3d5a9b2c64fc585cb2a83ba01ab14",
      "e426960970d542a49ad1faa758ab73b0",
      "ec286a941a834b3083c86c42a4dc0f08",
      "94837b9720704acd995901f14154e9e5"
     ]
    },
    "id": "jePFZ5o6cWHX",
    "outputId": "f40c94cd-160a-470a-a90f-603fbb90f671"
   },
   "outputs": [
    {
     "data": {
      "application/vnd.jupyter.widget-view+json": {
       "model_id": "3c74cead324d4d6dbbb4d2f9fe379c71",
       "version_major": 2,
       "version_minor": 0
      },
      "text/plain": [
       "Downloading (…)rocessor_config.json: 0.00B [00:00, ?B/s]"
      ]
     },
     "metadata": {},
     "output_type": "display_data"
    },
    {
     "data": {
      "application/vnd.jupyter.widget-view+json": {
       "model_id": "dace70ddf3aa4261950f1792af978b9c",
       "version_major": 2,
       "version_minor": 0
      },
      "text/plain": [
       "Downloading (…)okenizer_config.json:   0%|          | 0.00/844 [00:00<?, ?B/s]"
      ]
     },
     "metadata": {},
     "output_type": "display_data"
    },
    {
     "data": {
      "application/vnd.jupyter.widget-view+json": {
       "model_id": "3e53774f1d724281bf5cb68b6b8ec69a",
       "version_major": 2,
       "version_minor": 0
      },
      "text/plain": [
       "Downloading (…)olve/main/vocab.json: 0.00B [00:00, ?B/s]"
      ]
     },
     "metadata": {},
     "output_type": "display_data"
    },
    {
     "data": {
      "application/vnd.jupyter.widget-view+json": {
       "model_id": "54f40fe01d214f1c86b2785516ffa97e",
       "version_major": 2,
       "version_minor": 0
      },
      "text/plain": [
       "Downloading (…)/main/tokenizer.json: 0.00B [00:00, ?B/s]"
      ]
     },
     "metadata": {},
     "output_type": "display_data"
    },
    {
     "data": {
      "application/vnd.jupyter.widget-view+json": {
       "model_id": "0f03a4ece92d4240a1f91d41ff65cc37",
       "version_major": 2,
       "version_minor": 0
      },
      "text/plain": [
       "Downloading (…)olve/main/merges.txt: 0.00B [00:00, ?B/s]"
      ]
     },
     "metadata": {},
     "output_type": "display_data"
    },
    {
     "data": {
      "application/vnd.jupyter.widget-view+json": {
       "model_id": "7da467aa31d14c0ea128c3158f431e0c",
       "version_major": 2,
       "version_minor": 0
      },
      "text/plain": [
       "Downloading (…)main/normalizer.json: 0.00B [00:00, ?B/s]"
      ]
     },
     "metadata": {},
     "output_type": "display_data"
    },
    {
     "data": {
      "application/vnd.jupyter.widget-view+json": {
       "model_id": "4638163f5f9a4098939ffff8f239e4d8",
       "version_major": 2,
       "version_minor": 0
      },
      "text/plain": [
       "Downloading (…)in/added_tokens.json: 0.00B [00:00, ?B/s]"
      ]
     },
     "metadata": {},
     "output_type": "display_data"
    },
    {
     "data": {
      "application/vnd.jupyter.widget-view+json": {
       "model_id": "9ca807c0060945d594db2bde267b82bf",
       "version_major": 2,
       "version_minor": 0
      },
      "text/plain": [
       "Downloading (…)cial_tokens_map.json: 0.00B [00:00, ?B/s]"
      ]
     },
     "metadata": {},
     "output_type": "display_data"
    },
    {
     "data": {
      "application/vnd.jupyter.widget-view+json": {
       "model_id": "819ad68b67f7460e8744617ea4f548ff",
       "version_major": 2,
       "version_minor": 0
      },
      "text/plain": [
       "Downloading (…)lve/main/config.json: 0.00B [00:00, ?B/s]"
      ]
     },
     "metadata": {},
     "output_type": "display_data"
    },
    {
     "data": {
      "application/vnd.jupyter.widget-view+json": {
       "model_id": "085c661a170c4f939e18c82f4a61070e",
       "version_major": 2,
       "version_minor": 0
      },
      "text/plain": [
       "Downloading pytorch_model.bin:   0%|          | 0.00/290M [00:00<?, ?B/s]"
      ]
     },
     "metadata": {},
     "output_type": "display_data"
    },
    {
     "data": {
      "application/vnd.jupyter.widget-view+json": {
       "model_id": "df77d14e3b114908b1229a871d8a8131",
       "version_major": 2,
       "version_minor": 0
      },
      "text/plain": [
       "Downloading (…)neration_config.json: 0.00B [00:00, ?B/s]"
      ]
     },
     "metadata": {},
     "output_type": "display_data"
    },
    {
     "data": {
      "application/vnd.jupyter.widget-view+json": {
       "model_id": "",
       "version_major": 2,
       "version_minor": 0
      },
      "text/plain": [
       "Map:   0%|          | 0/12585 [00:00<?, ? examples/s]"
      ]
     },
     "metadata": {},
     "output_type": "display_data"
    },
    {
     "name": "stderr",
     "output_type": "stream",
     "text": [
      "/opt/conda/lib/python3.10/site-packages/transformers/generation/utils.py:1346: UserWarning: Using `max_length`'s default (448) to control the generation length. This behaviour is deprecated and will be removed from the config in v5 of Transformers -- we recommend using `max_new_tokens` to control the maximum length of the generation.\n",
      "  warnings.warn(\n"
     ]
    }
   ],
   "source": [
    "whisper_base_en_processor = WhisperProcessor.from_pretrained(\"openai/whisper-base.en\")\n",
    "whisper_base_en = WhisperForConditionalGeneration.from_pretrained(\"openai/whisper-base.en\").to(\"cuda\")\n",
    "\n",
    "save_predictions(\"whisper_base_en\", whisper_base_en, whisper_base_en_processor, batched=False, batch_size=1)"
   ]
  },
  {
   "cell_type": "markdown",
   "metadata": {},
   "source": [
    "# Evaluation\n",
    "\n",
    "The primary metric for evaluation will be the Word Error Rate(WER), which measures the percentage of words that were transcribed incorrectly. Additionally, we will use the Character Error(CER) to measure the number of character-level mistakes in the transcriptions. These metrics will provide a clear picture of the transcription accuracy of the evaluated models."
   ]
  },
  {
   "cell_type": "code",
   "execution_count": 29,
   "metadata": {},
   "outputs": [],
   "source": [
    "import pandas as pd\n",
    "from jiwer import cer, wer"
   ]
  },
  {
   "cell_type": "code",
   "execution_count": 2,
   "metadata": {
    "id": "aU3K0IF8Vc7y"
   },
   "outputs": [],
   "source": [
    "wav2vec2_df = pd.read_csv(\"../results/wav2vec2_results.csv\")\n",
    "hubert_df = pd.read_csv(\"../results/hubert_results.csv\")\n",
    "whisper_base_df = pd.read_csv(\"../results/whisper_base_results.csv\")\n",
    "whisper_base_en_df = pd.read_csv(\"../results/whisper_base_en_results.csv\")\n",
    "clean_df = pd.read_csv(\"../accentsDB/metadata.csv\")"
   ]
  },
  {
   "cell_type": "code",
   "execution_count": 3,
   "metadata": {},
   "outputs": [],
   "source": [
    "# Make whisper_base and whisper_base_en columns uppercase and remove commas and periods.\n",
    "whisper_base_df['transcription_whisper_base'] = whisper_base_df['transcription_whisper_base'].str.upper().str.replace(',', '').str.replace('.', '')\n",
    "whisper_base_en_df['transcription_whisper_base_en'] = whisper_base_en_df['transcription_whisper_base_en'].str.upper().str.replace(',', '').str.replace('.', '')"
   ]
  },
  {
   "cell_type": "code",
   "execution_count": 4,
   "metadata": {},
   "outputs": [
    {
     "data": {
      "text/html": [
       "<div>\n",
       "<style scoped>\n",
       "    .dataframe tbody tr th:only-of-type {\n",
       "        vertical-align: middle;\n",
       "    }\n",
       "\n",
       "    .dataframe tbody tr th {\n",
       "        vertical-align: top;\n",
       "    }\n",
       "\n",
       "    .dataframe thead th {\n",
       "        text-align: right;\n",
       "    }\n",
       "</style>\n",
       "<table border=\"1\" class=\"dataframe\">\n",
       "  <thead>\n",
       "    <tr style=\"text-align: right;\">\n",
       "      <th></th>\n",
       "      <th>transcription</th>\n",
       "      <th>transcription_whisper_base</th>\n",
       "    </tr>\n",
       "  </thead>\n",
       "  <tbody>\n",
       "    <tr>\n",
       "      <th>0</th>\n",
       "      <td>THE BIRCH CANOE SLID ON THE SMOOTH PLANKS</td>\n",
       "      <td>THE BIRCH CAN BE SLID ON THE SMOOTH PLANKS</td>\n",
       "    </tr>\n",
       "    <tr>\n",
       "      <th>1</th>\n",
       "      <td>GLUE THE SHEET TO THE DARK BLUE BACKGROUND</td>\n",
       "      <td>GLUE THE SHEET TO THE DARK BLUE BACKGROUND</td>\n",
       "    </tr>\n",
       "    <tr>\n",
       "      <th>2</th>\n",
       "      <td>IT'S EASY TO TELL THE DEPTH OF A WELL</td>\n",
       "      <td>IT'S EASY TO TELL THE DEPTH OF A WELL</td>\n",
       "    </tr>\n",
       "    <tr>\n",
       "      <th>3</th>\n",
       "      <td>THESE DAYS A CHICKEN LEG IS A RARE DISH</td>\n",
       "      <td>THESE DAYS THE CHICKEN LAG IS A RARE DISH</td>\n",
       "    </tr>\n",
       "    <tr>\n",
       "      <th>4</th>\n",
       "      <td>RICE IS OFTEN SERVED IN ROUND BOWLS</td>\n",
       "      <td>RICE IS OFTEN SERVED IN ROUND BOWLS</td>\n",
       "    </tr>\n",
       "  </tbody>\n",
       "</table>\n",
       "</div>"
      ],
      "text/plain": [
       "                                transcription  \\\n",
       "0   THE BIRCH CANOE SLID ON THE SMOOTH PLANKS   \n",
       "1  GLUE THE SHEET TO THE DARK BLUE BACKGROUND   \n",
       "2       IT'S EASY TO TELL THE DEPTH OF A WELL   \n",
       "3     THESE DAYS A CHICKEN LEG IS A RARE DISH   \n",
       "4         RICE IS OFTEN SERVED IN ROUND BOWLS   \n",
       "\n",
       "                    transcription_whisper_base  \n",
       "0   THE BIRCH CAN BE SLID ON THE SMOOTH PLANKS  \n",
       "1   GLUE THE SHEET TO THE DARK BLUE BACKGROUND  \n",
       "2        IT'S EASY TO TELL THE DEPTH OF A WELL  \n",
       "3    THESE DAYS THE CHICKEN LAG IS A RARE DISH  \n",
       "4          RICE IS OFTEN SERVED IN ROUND BOWLS  "
      ]
     },
     "execution_count": 4,
     "metadata": {},
     "output_type": "execute_result"
    }
   ],
   "source": [
    "whisper_base_df.head()"
   ]
  },
  {
   "cell_type": "code",
   "execution_count": 5,
   "metadata": {},
   "outputs": [],
   "source": [
    "# Drop the transcription column from all dataframes.\n",
    "wav2vec2_df = wav2vec2_df.drop(columns=['transcription'])\n",
    "hubert_df = hubert_df.drop(columns=['transcription'])\n",
    "whisper_base_df = whisper_base_df.drop(columns=['transcription'])\n",
    "whisper_base_en_df = whisper_base_en_df.drop(columns=['transcription'])\n"
   ]
  },
  {
   "cell_type": "code",
   "execution_count": 6,
   "metadata": {},
   "outputs": [
    {
     "data": {
      "text/html": [
       "<div>\n",
       "<style scoped>\n",
       "    .dataframe tbody tr th:only-of-type {\n",
       "        vertical-align: middle;\n",
       "    }\n",
       "\n",
       "    .dataframe tbody tr th {\n",
       "        vertical-align: top;\n",
       "    }\n",
       "\n",
       "    .dataframe thead th {\n",
       "        text-align: right;\n",
       "    }\n",
       "</style>\n",
       "<table border=\"1\" class=\"dataframe\">\n",
       "  <thead>\n",
       "    <tr style=\"text-align: right;\">\n",
       "      <th></th>\n",
       "      <th>transcription</th>\n",
       "      <th>file_name</th>\n",
       "      <th>transcription_wav2vec2</th>\n",
       "      <th>transcription_hubert</th>\n",
       "      <th>transcription_whisper_base</th>\n",
       "      <th>transcription_whisper_base_en</th>\n",
       "    </tr>\n",
       "  </thead>\n",
       "  <tbody>\n",
       "    <tr>\n",
       "      <th>0</th>\n",
       "      <td>THE BIRCH CANOE SLID ON THE SMOOTH PLANKS</td>\n",
       "      <td>data/indian/speaker_02/indian_s02_001.wav</td>\n",
       "      <td>THOUGH BIRCH CANOE SLID ON THE SMOTH PLANKS</td>\n",
       "      <td>THOUG BIRCH CANOE SLID ON THE SMOTH PLANKS</td>\n",
       "      <td>THE BIRCH CAN BE SLID ON THE SMOOTH PLANKS</td>\n",
       "      <td>THE BIRCH CAN NOW SLID ON THE SMOOTH PLANKS</td>\n",
       "    </tr>\n",
       "    <tr>\n",
       "      <th>1</th>\n",
       "      <td>GLUE THE SHEET TO THE DARK BLUE BACKGROUND</td>\n",
       "      <td>data/indian/speaker_02/indian_s02_002.wav</td>\n",
       "      <td>GLUE THE SHET TO THE DARK BLUE BACKGROUND</td>\n",
       "      <td>GLUE THE SHET TO THE DARK BLUE BACKGROUND</td>\n",
       "      <td>GLUE THE SHEET TO THE DARK BLUE BACKGROUND</td>\n",
       "      <td>GLUE THE SHEET TO THE DARK BLUE BACKGROUND</td>\n",
       "    </tr>\n",
       "    <tr>\n",
       "      <th>2</th>\n",
       "      <td>IT'S EASY TO TELL THE DEPTH OF A WELL</td>\n",
       "      <td>data/indian/speaker_02/indian_s02_003.wav</td>\n",
       "      <td>IT'S EASY TO TEL THE DEPTH OF A WEL</td>\n",
       "      <td>IT'S EASY TO TEL THE DEPTH OF A WEL</td>\n",
       "      <td>IT'S EASY TO TELL THE DEPTH OF A WELL</td>\n",
       "      <td>IT'S EASY TO TELL THE DEPTH OF A WELL</td>\n",
       "    </tr>\n",
       "    <tr>\n",
       "      <th>3</th>\n",
       "      <td>THESE DAYS A CHICKEN LEG IS A RARE DISH</td>\n",
       "      <td>data/indian/speaker_02/indian_s02_004.wav</td>\n",
       "      <td>THESE DAYS A CHICKEN LEG IS A RARE DISH</td>\n",
       "      <td>THESE DAYS A CHICKEN LEG IS A RARE DISH</td>\n",
       "      <td>THESE DAYS THE CHICKEN LAG IS A RARE DISH</td>\n",
       "      <td>THESE DAYS A CHICKEN LEG IS A RARE DISH</td>\n",
       "    </tr>\n",
       "    <tr>\n",
       "      <th>4</th>\n",
       "      <td>RICE IS OFTEN SERVED IN ROUND BOWLS</td>\n",
       "      <td>data/indian/speaker_02/indian_s02_005.wav</td>\n",
       "      <td>RICE IS OFTEN SERVED IN ROUND BOWLS</td>\n",
       "      <td>RICE IS OFTEN SERVED IN ROUND BOWLS</td>\n",
       "      <td>RICE IS OFTEN SERVED IN ROUND BOWLS</td>\n",
       "      <td>RICE IS OFTEN SERVED IN ROUND BOWLS</td>\n",
       "    </tr>\n",
       "  </tbody>\n",
       "</table>\n",
       "</div>"
      ],
      "text/plain": [
       "                                transcription  \\\n",
       "0   THE BIRCH CANOE SLID ON THE SMOOTH PLANKS   \n",
       "1  GLUE THE SHEET TO THE DARK BLUE BACKGROUND   \n",
       "2       IT'S EASY TO TELL THE DEPTH OF A WELL   \n",
       "3     THESE DAYS A CHICKEN LEG IS A RARE DISH   \n",
       "4         RICE IS OFTEN SERVED IN ROUND BOWLS   \n",
       "\n",
       "                                   file_name  \\\n",
       "0  data/indian/speaker_02/indian_s02_001.wav   \n",
       "1  data/indian/speaker_02/indian_s02_002.wav   \n",
       "2  data/indian/speaker_02/indian_s02_003.wav   \n",
       "3  data/indian/speaker_02/indian_s02_004.wav   \n",
       "4  data/indian/speaker_02/indian_s02_005.wav   \n",
       "\n",
       "                        transcription_wav2vec2  \\\n",
       "0  THOUGH BIRCH CANOE SLID ON THE SMOTH PLANKS   \n",
       "1    GLUE THE SHET TO THE DARK BLUE BACKGROUND   \n",
       "2          IT'S EASY TO TEL THE DEPTH OF A WEL   \n",
       "3      THESE DAYS A CHICKEN LEG IS A RARE DISH   \n",
       "4          RICE IS OFTEN SERVED IN ROUND BOWLS   \n",
       "\n",
       "                         transcription_hubert  \\\n",
       "0  THOUG BIRCH CANOE SLID ON THE SMOTH PLANKS   \n",
       "1   GLUE THE SHET TO THE DARK BLUE BACKGROUND   \n",
       "2         IT'S EASY TO TEL THE DEPTH OF A WEL   \n",
       "3     THESE DAYS A CHICKEN LEG IS A RARE DISH   \n",
       "4         RICE IS OFTEN SERVED IN ROUND BOWLS   \n",
       "\n",
       "                    transcription_whisper_base  \\\n",
       "0   THE BIRCH CAN BE SLID ON THE SMOOTH PLANKS   \n",
       "1   GLUE THE SHEET TO THE DARK BLUE BACKGROUND   \n",
       "2        IT'S EASY TO TELL THE DEPTH OF A WELL   \n",
       "3    THESE DAYS THE CHICKEN LAG IS A RARE DISH   \n",
       "4          RICE IS OFTEN SERVED IN ROUND BOWLS   \n",
       "\n",
       "                  transcription_whisper_base_en  \n",
       "0   THE BIRCH CAN NOW SLID ON THE SMOOTH PLANKS  \n",
       "1    GLUE THE SHEET TO THE DARK BLUE BACKGROUND  \n",
       "2         IT'S EASY TO TELL THE DEPTH OF A WELL  \n",
       "3       THESE DAYS A CHICKEN LEG IS A RARE DISH  \n",
       "4           RICE IS OFTEN SERVED IN ROUND BOWLS  "
      ]
     },
     "execution_count": 6,
     "metadata": {},
     "output_type": "execute_result"
    }
   ],
   "source": [
    "# Merge all the dataframes into one dataframe.\n",
    "merged_df = pd.concat([clean_df, wav2vec2_df, hubert_df, whisper_base_df, whisper_base_en_df], axis=1)\n",
    "merged_df.head()"
   ]
  },
  {
   "cell_type": "code",
   "execution_count": 7,
   "metadata": {},
   "outputs": [
    {
     "data": {
      "text/html": [
       "<div>\n",
       "<style scoped>\n",
       "    .dataframe tbody tr th:only-of-type {\n",
       "        vertical-align: middle;\n",
       "    }\n",
       "\n",
       "    .dataframe tbody tr th {\n",
       "        vertical-align: top;\n",
       "    }\n",
       "\n",
       "    .dataframe thead th {\n",
       "        text-align: right;\n",
       "    }\n",
       "</style>\n",
       "<table border=\"1\" class=\"dataframe\">\n",
       "  <thead>\n",
       "    <tr style=\"text-align: right;\">\n",
       "      <th></th>\n",
       "      <th>transcription</th>\n",
       "      <th>transcription_wav2vec2</th>\n",
       "      <th>transcription_hubert</th>\n",
       "      <th>transcription_whisper_base</th>\n",
       "      <th>transcription_whisper_base_en</th>\n",
       "      <th>file_name</th>\n",
       "    </tr>\n",
       "  </thead>\n",
       "  <tbody>\n",
       "    <tr>\n",
       "      <th>0</th>\n",
       "      <td>THE BIRCH CANOE SLID ON THE SMOOTH PLANKS</td>\n",
       "      <td>THOUGH BIRCH CANOE SLID ON THE SMOTH PLANKS</td>\n",
       "      <td>THOUG BIRCH CANOE SLID ON THE SMOTH PLANKS</td>\n",
       "      <td>THE BIRCH CAN BE SLID ON THE SMOOTH PLANKS</td>\n",
       "      <td>THE BIRCH CAN NOW SLID ON THE SMOOTH PLANKS</td>\n",
       "      <td>data/indian/speaker_02/indian_s02_001.wav</td>\n",
       "    </tr>\n",
       "    <tr>\n",
       "      <th>1</th>\n",
       "      <td>GLUE THE SHEET TO THE DARK BLUE BACKGROUND</td>\n",
       "      <td>GLUE THE SHET TO THE DARK BLUE BACKGROUND</td>\n",
       "      <td>GLUE THE SHET TO THE DARK BLUE BACKGROUND</td>\n",
       "      <td>GLUE THE SHEET TO THE DARK BLUE BACKGROUND</td>\n",
       "      <td>GLUE THE SHEET TO THE DARK BLUE BACKGROUND</td>\n",
       "      <td>data/indian/speaker_02/indian_s02_002.wav</td>\n",
       "    </tr>\n",
       "    <tr>\n",
       "      <th>2</th>\n",
       "      <td>IT'S EASY TO TELL THE DEPTH OF A WELL</td>\n",
       "      <td>IT'S EASY TO TEL THE DEPTH OF A WEL</td>\n",
       "      <td>IT'S EASY TO TEL THE DEPTH OF A WEL</td>\n",
       "      <td>IT'S EASY TO TELL THE DEPTH OF A WELL</td>\n",
       "      <td>IT'S EASY TO TELL THE DEPTH OF A WELL</td>\n",
       "      <td>data/indian/speaker_02/indian_s02_003.wav</td>\n",
       "    </tr>\n",
       "    <tr>\n",
       "      <th>3</th>\n",
       "      <td>THESE DAYS A CHICKEN LEG IS A RARE DISH</td>\n",
       "      <td>THESE DAYS A CHICKEN LEG IS A RARE DISH</td>\n",
       "      <td>THESE DAYS A CHICKEN LEG IS A RARE DISH</td>\n",
       "      <td>THESE DAYS THE CHICKEN LAG IS A RARE DISH</td>\n",
       "      <td>THESE DAYS A CHICKEN LEG IS A RARE DISH</td>\n",
       "      <td>data/indian/speaker_02/indian_s02_004.wav</td>\n",
       "    </tr>\n",
       "    <tr>\n",
       "      <th>4</th>\n",
       "      <td>RICE IS OFTEN SERVED IN ROUND BOWLS</td>\n",
       "      <td>RICE IS OFTEN SERVED IN ROUND BOWLS</td>\n",
       "      <td>RICE IS OFTEN SERVED IN ROUND BOWLS</td>\n",
       "      <td>RICE IS OFTEN SERVED IN ROUND BOWLS</td>\n",
       "      <td>RICE IS OFTEN SERVED IN ROUND BOWLS</td>\n",
       "      <td>data/indian/speaker_02/indian_s02_005.wav</td>\n",
       "    </tr>\n",
       "  </tbody>\n",
       "</table>\n",
       "</div>"
      ],
      "text/plain": [
       "                                transcription  \\\n",
       "0   THE BIRCH CANOE SLID ON THE SMOOTH PLANKS   \n",
       "1  GLUE THE SHEET TO THE DARK BLUE BACKGROUND   \n",
       "2       IT'S EASY TO TELL THE DEPTH OF A WELL   \n",
       "3     THESE DAYS A CHICKEN LEG IS A RARE DISH   \n",
       "4         RICE IS OFTEN SERVED IN ROUND BOWLS   \n",
       "\n",
       "                        transcription_wav2vec2  \\\n",
       "0  THOUGH BIRCH CANOE SLID ON THE SMOTH PLANKS   \n",
       "1    GLUE THE SHET TO THE DARK BLUE BACKGROUND   \n",
       "2          IT'S EASY TO TEL THE DEPTH OF A WEL   \n",
       "3      THESE DAYS A CHICKEN LEG IS A RARE DISH   \n",
       "4          RICE IS OFTEN SERVED IN ROUND BOWLS   \n",
       "\n",
       "                         transcription_hubert  \\\n",
       "0  THOUG BIRCH CANOE SLID ON THE SMOTH PLANKS   \n",
       "1   GLUE THE SHET TO THE DARK BLUE BACKGROUND   \n",
       "2         IT'S EASY TO TEL THE DEPTH OF A WEL   \n",
       "3     THESE DAYS A CHICKEN LEG IS A RARE DISH   \n",
       "4         RICE IS OFTEN SERVED IN ROUND BOWLS   \n",
       "\n",
       "                    transcription_whisper_base  \\\n",
       "0   THE BIRCH CAN BE SLID ON THE SMOOTH PLANKS   \n",
       "1   GLUE THE SHEET TO THE DARK BLUE BACKGROUND   \n",
       "2        IT'S EASY TO TELL THE DEPTH OF A WELL   \n",
       "3    THESE DAYS THE CHICKEN LAG IS A RARE DISH   \n",
       "4          RICE IS OFTEN SERVED IN ROUND BOWLS   \n",
       "\n",
       "                  transcription_whisper_base_en  \\\n",
       "0   THE BIRCH CAN NOW SLID ON THE SMOOTH PLANKS   \n",
       "1    GLUE THE SHEET TO THE DARK BLUE BACKGROUND   \n",
       "2         IT'S EASY TO TELL THE DEPTH OF A WELL   \n",
       "3       THESE DAYS A CHICKEN LEG IS A RARE DISH   \n",
       "4           RICE IS OFTEN SERVED IN ROUND BOWLS   \n",
       "\n",
       "                                   file_name  \n",
       "0  data/indian/speaker_02/indian_s02_001.wav  \n",
       "1  data/indian/speaker_02/indian_s02_002.wav  \n",
       "2  data/indian/speaker_02/indian_s02_003.wav  \n",
       "3  data/indian/speaker_02/indian_s02_004.wav  \n",
       "4  data/indian/speaker_02/indian_s02_005.wav  "
      ]
     },
     "execution_count": 7,
     "metadata": {},
     "output_type": "execute_result"
    }
   ],
   "source": [
    "# Make file_name the last column.\n",
    "cols = list(merged_df.columns.values)\n",
    "cols.pop(cols.index('file_name'))\n",
    "merged_df = merged_df[cols+['file_name']]\n",
    "merged_df.head()"
   ]
  },
  {
   "cell_type": "code",
   "execution_count": 69,
   "metadata": {},
   "outputs": [
    {
     "data": {
      "text/html": [
       "<div>\n",
       "<style scoped>\n",
       "    .dataframe tbody tr th:only-of-type {\n",
       "        vertical-align: middle;\n",
       "    }\n",
       "\n",
       "    .dataframe tbody tr th {\n",
       "        vertical-align: top;\n",
       "    }\n",
       "\n",
       "    .dataframe thead th {\n",
       "        text-align: right;\n",
       "    }\n",
       "</style>\n",
       "<table border=\"1\" class=\"dataframe\">\n",
       "  <thead>\n",
       "    <tr style=\"text-align: right;\">\n",
       "      <th></th>\n",
       "      <th>model</th>\n",
       "      <th>wer</th>\n",
       "      <th>cer</th>\n",
       "    </tr>\n",
       "  </thead>\n",
       "  <tbody>\n",
       "    <tr>\n",
       "      <th>0</th>\n",
       "      <td>wav2vec2</td>\n",
       "      <td>0.665041</td>\n",
       "      <td>0.464469</td>\n",
       "    </tr>\n",
       "    <tr>\n",
       "      <th>1</th>\n",
       "      <td>hubert</td>\n",
       "      <td>0.628200</td>\n",
       "      <td>0.446882</td>\n",
       "    </tr>\n",
       "    <tr>\n",
       "      <th>2</th>\n",
       "      <td>whisper_base</td>\n",
       "      <td>0.938768</td>\n",
       "      <td>0.804884</td>\n",
       "    </tr>\n",
       "    <tr>\n",
       "      <th>3</th>\n",
       "      <td>whisper_base_en</td>\n",
       "      <td>0.891479</td>\n",
       "      <td>0.755049</td>\n",
       "    </tr>\n",
       "  </tbody>\n",
       "</table>\n",
       "</div>"
      ],
      "text/plain": [
       "             model       wer       cer\n",
       "0         wav2vec2  0.665041  0.464469\n",
       "1           hubert  0.628200  0.446882\n",
       "2     whisper_base  0.938768  0.804884\n",
       "3  whisper_base_en  0.891479  0.755049"
      ]
     },
     "execution_count": 69,
     "metadata": {},
     "output_type": "execute_result"
    }
   ],
   "source": [
    "# Calculate the WER for each model and create a new dataframe with the results.\n",
    "wer_df = pd.DataFrame(columns=['model', 'wer'])\n",
    "wer_df['model'] = ['wav2vec2', 'hubert', 'whisper_base', 'whisper_base_en']\n",
    "wer_df['wer'] = [wer(merged_df['transcription'].astype(str).tolist(), merged_df['transcription_wav2vec2'].astype(str).tolist()),\n",
    "                    wer(merged_df['transcription'].astype(str).tolist(), merged_df['transcription_hubert'].astype(str).tolist()),\n",
    "                    wer(merged_df['transcription'].astype(str).tolist(), merged_df['transcription_whisper_base'].astype(str).tolist()),\n",
    "                    wer(merged_df['transcription'].astype(str).tolist(), merged_df['transcription_whisper_base_en'].astype(str).tolist())]\n",
    "# add cer\n",
    "wer_df['cer'] = [cer(merged_df['transcription'].astype(str).tolist(), merged_df['transcription_wav2vec2'].astype(str).tolist()),\n",
    "                    cer(merged_df['transcription'].astype(str).tolist(), merged_df['transcription_hubert'].astype(str).tolist()),\n",
    "                    cer(merged_df['transcription'].astype(str).tolist(), merged_df['transcription_whisper_base'].astype(str).tolist()),\n",
    "                    cer(merged_df['transcription'].astype(str).tolist(), merged_df['transcription_whisper_base_en'].astype(str).tolist())]\n",
    "\n",
    "wer_df.head()\n"
   ]
  },
  {
   "cell_type": "code",
   "execution_count": 31,
   "metadata": {},
   "outputs": [],
   "source": [
    "wer_df.to_csv(\"../results/wer.csv\",index=False)"
   ]
  },
  {
   "cell_type": "code",
   "execution_count": 74,
   "metadata": {},
   "outputs": [
    {
     "data": {
      "text/html": [
       "<div>\n",
       "<style scoped>\n",
       "    .dataframe tbody tr th:only-of-type {\n",
       "        vertical-align: middle;\n",
       "    }\n",
       "\n",
       "    .dataframe tbody tr th {\n",
       "        vertical-align: top;\n",
       "    }\n",
       "\n",
       "    .dataframe thead th {\n",
       "        text-align: right;\n",
       "    }\n",
       "</style>\n",
       "<table border=\"1\" class=\"dataframe\">\n",
       "  <thead>\n",
       "    <tr style=\"text-align: right;\">\n",
       "      <th></th>\n",
       "      <th>model</th>\n",
       "      <th>accent</th>\n",
       "      <th>wer</th>\n",
       "      <th>cer</th>\n",
       "    </tr>\n",
       "  </thead>\n",
       "  <tbody>\n",
       "    <tr>\n",
       "      <th>0</th>\n",
       "      <td>wav2vec2</td>\n",
       "      <td>indian</td>\n",
       "      <td>0.177290</td>\n",
       "      <td>0.050668</td>\n",
       "    </tr>\n",
       "    <tr>\n",
       "      <th>1</th>\n",
       "      <td>wav2vec2</td>\n",
       "      <td>australian</td>\n",
       "      <td>0.278997</td>\n",
       "      <td>0.098341</td>\n",
       "    </tr>\n",
       "    <tr>\n",
       "      <th>2</th>\n",
       "      <td>wav2vec2</td>\n",
       "      <td>odiya</td>\n",
       "      <td>1.018639</td>\n",
       "      <td>0.785332</td>\n",
       "    </tr>\n",
       "    <tr>\n",
       "      <th>3</th>\n",
       "      <td>wav2vec2</td>\n",
       "      <td>welsh</td>\n",
       "      <td>0.164228</td>\n",
       "      <td>0.044026</td>\n",
       "    </tr>\n",
       "    <tr>\n",
       "      <th>4</th>\n",
       "      <td>wav2vec2</td>\n",
       "      <td>bangla</td>\n",
       "      <td>1.014374</td>\n",
       "      <td>0.785358</td>\n",
       "    </tr>\n",
       "  </tbody>\n",
       "</table>\n",
       "</div>"
      ],
      "text/plain": [
       "      model      accent       wer       cer\n",
       "0  wav2vec2      indian  0.177290  0.050668\n",
       "1  wav2vec2  australian  0.278997  0.098341\n",
       "2  wav2vec2       odiya  1.018639  0.785332\n",
       "3  wav2vec2       welsh  0.164228  0.044026\n",
       "4  wav2vec2      bangla  1.014374  0.785358"
      ]
     },
     "execution_count": 74,
     "metadata": {},
     "output_type": "execute_result"
    }
   ],
   "source": [
    "models = ['wav2vec2', 'hubert', 'whisper_base', 'whisper_base_en']\n",
    "\n",
    "# Add accent column to merged_df \n",
    "# example: data/india/speaker-> india\n",
    "merged_df['accent'] = merged_df['file_name'].str.split('/').str[1].str.split('_').str[0]\n",
    "\n",
    "dataframes = []\n",
    "\n",
    "for model in models:\n",
    "    for accent in merged_df['accent'].unique():\n",
    "        accent_df = merged_df[merged_df['accent'] == accent]\n",
    "        model_wer = wer(accent_df['transcription'].astype(str).tolist(), \n",
    "                        accent_df[f'transcription_{model}'].astype(str).tolist())\n",
    "        model_cer = cer(accent_df['transcription'].astype(str).tolist(),\n",
    "                        accent_df[f'transcription_{model}'].astype(str).tolist())\n",
    "    \n",
    "        mini_df = pd.DataFrame({'model': [model], \n",
    "                                'accent': [accent], \n",
    "                                'wer': [model_wer],\n",
    "                                'cer': [model_cer]})\n",
    "        dataframes.append(mini_df)\n",
    "\n",
    "wer_accent_df = pd.concat(dataframes, ignore_index=True)\n",
    "\n",
    "wer_accent_df.head()\n"
   ]
  },
  {
   "cell_type": "code",
   "execution_count": 33,
   "metadata": {},
   "outputs": [],
   "source": [
    "wer_accent_df.to_csv(\"../results/wer_accent.csv\",index=False)"
   ]
  },
  {
   "cell_type": "code",
   "execution_count": 34,
   "metadata": {},
   "outputs": [
    {
     "data": {
      "text/html": [
       "<div>\n",
       "<style scoped>\n",
       "    .dataframe tbody tr th:only-of-type {\n",
       "        vertical-align: middle;\n",
       "    }\n",
       "\n",
       "    .dataframe tbody tr th {\n",
       "        vertical-align: top;\n",
       "    }\n",
       "\n",
       "    .dataframe thead th {\n",
       "        text-align: right;\n",
       "    }\n",
       "</style>\n",
       "<table border=\"1\" class=\"dataframe\">\n",
       "  <thead>\n",
       "    <tr style=\"text-align: right;\">\n",
       "      <th></th>\n",
       "      <th>model</th>\n",
       "      <th>accent</th>\n",
       "      <th>wer</th>\n",
       "      <th>cer</th>\n",
       "    </tr>\n",
       "  </thead>\n",
       "  <tbody>\n",
       "    <tr>\n",
       "      <th>0</th>\n",
       "      <td>wav2vec2</td>\n",
       "      <td>indian</td>\n",
       "      <td>0.177290</td>\n",
       "      <td>0.050668</td>\n",
       "    </tr>\n",
       "    <tr>\n",
       "      <th>1</th>\n",
       "      <td>wav2vec2</td>\n",
       "      <td>australian</td>\n",
       "      <td>0.278997</td>\n",
       "      <td>0.098341</td>\n",
       "    </tr>\n",
       "    <tr>\n",
       "      <th>2</th>\n",
       "      <td>wav2vec2</td>\n",
       "      <td>odiya</td>\n",
       "      <td>1.018639</td>\n",
       "      <td>0.785332</td>\n",
       "    </tr>\n",
       "    <tr>\n",
       "      <th>3</th>\n",
       "      <td>wav2vec2</td>\n",
       "      <td>welsh</td>\n",
       "      <td>0.164228</td>\n",
       "      <td>0.044026</td>\n",
       "    </tr>\n",
       "    <tr>\n",
       "      <th>4</th>\n",
       "      <td>wav2vec2</td>\n",
       "      <td>bangla</td>\n",
       "      <td>1.014374</td>\n",
       "      <td>0.785358</td>\n",
       "    </tr>\n",
       "    <tr>\n",
       "      <th>5</th>\n",
       "      <td>wav2vec2</td>\n",
       "      <td>british</td>\n",
       "      <td>0.231586</td>\n",
       "      <td>0.076578</td>\n",
       "    </tr>\n",
       "    <tr>\n",
       "      <th>6</th>\n",
       "      <td>wav2vec2</td>\n",
       "      <td>american</td>\n",
       "      <td>0.965017</td>\n",
       "      <td>0.727266</td>\n",
       "    </tr>\n",
       "    <tr>\n",
       "      <th>7</th>\n",
       "      <td>hubert</td>\n",
       "      <td>indian</td>\n",
       "      <td>0.142111</td>\n",
       "      <td>0.036676</td>\n",
       "    </tr>\n",
       "    <tr>\n",
       "      <th>8</th>\n",
       "      <td>hubert</td>\n",
       "      <td>australian</td>\n",
       "      <td>0.185998</td>\n",
       "      <td>0.058399</td>\n",
       "    </tr>\n",
       "    <tr>\n",
       "      <th>9</th>\n",
       "      <td>hubert</td>\n",
       "      <td>odiya</td>\n",
       "      <td>1.017784</td>\n",
       "      <td>0.784655</td>\n",
       "    </tr>\n",
       "    <tr>\n",
       "      <th>10</th>\n",
       "      <td>hubert</td>\n",
       "      <td>welsh</td>\n",
       "      <td>0.131661</td>\n",
       "      <td>0.032121</td>\n",
       "    </tr>\n",
       "    <tr>\n",
       "      <th>11</th>\n",
       "      <td>hubert</td>\n",
       "      <td>bangla</td>\n",
       "      <td>1.017796</td>\n",
       "      <td>0.785857</td>\n",
       "    </tr>\n",
       "    <tr>\n",
       "      <th>12</th>\n",
       "      <td>hubert</td>\n",
       "      <td>british</td>\n",
       "      <td>0.151141</td>\n",
       "      <td>0.041402</td>\n",
       "    </tr>\n",
       "    <tr>\n",
       "      <th>13</th>\n",
       "      <td>hubert</td>\n",
       "      <td>american</td>\n",
       "      <td>0.942463</td>\n",
       "      <td>0.713601</td>\n",
       "    </tr>\n",
       "    <tr>\n",
       "      <th>14</th>\n",
       "      <td>whisper_base</td>\n",
       "      <td>indian</td>\n",
       "      <td>0.092738</td>\n",
       "      <td>0.040505</td>\n",
       "    </tr>\n",
       "    <tr>\n",
       "      <th>15</th>\n",
       "      <td>whisper_base</td>\n",
       "      <td>australian</td>\n",
       "      <td>0.169018</td>\n",
       "      <td>0.081718</td>\n",
       "    </tr>\n",
       "    <tr>\n",
       "      <th>16</th>\n",
       "      <td>whisper_base</td>\n",
       "      <td>odiya</td>\n",
       "      <td>1.015561</td>\n",
       "      <td>0.795061</td>\n",
       "    </tr>\n",
       "    <tr>\n",
       "      <th>17</th>\n",
       "      <td>whisper_base</td>\n",
       "      <td>welsh</td>\n",
       "      <td>0.069488</td>\n",
       "      <td>0.028020</td>\n",
       "    </tr>\n",
       "    <tr>\n",
       "      <th>18</th>\n",
       "      <td>whisper_base</td>\n",
       "      <td>bangla</td>\n",
       "      <td>1.013860</td>\n",
       "      <td>0.794768</td>\n",
       "    </tr>\n",
       "    <tr>\n",
       "      <th>19</th>\n",
       "      <td>whisper_base</td>\n",
       "      <td>british</td>\n",
       "      <td>0.135382</td>\n",
       "      <td>0.061549</td>\n",
       "    </tr>\n",
       "    <tr>\n",
       "      <th>20</th>\n",
       "      <td>whisper_base</td>\n",
       "      <td>american</td>\n",
       "      <td>1.632924</td>\n",
       "      <td>1.462217</td>\n",
       "    </tr>\n",
       "    <tr>\n",
       "      <th>21</th>\n",
       "      <td>whisper_base_en</td>\n",
       "      <td>indian</td>\n",
       "      <td>0.075932</td>\n",
       "      <td>0.032139</td>\n",
       "    </tr>\n",
       "    <tr>\n",
       "      <th>22</th>\n",
       "      <td>whisper_base_en</td>\n",
       "      <td>australian</td>\n",
       "      <td>0.126698</td>\n",
       "      <td>0.059433</td>\n",
       "    </tr>\n",
       "    <tr>\n",
       "      <th>23</th>\n",
       "      <td>whisper_base_en</td>\n",
       "      <td>odiya</td>\n",
       "      <td>1.017271</td>\n",
       "      <td>0.795025</td>\n",
       "    </tr>\n",
       "    <tr>\n",
       "      <th>24</th>\n",
       "      <td>whisper_base_en</td>\n",
       "      <td>welsh</td>\n",
       "      <td>0.054162</td>\n",
       "      <td>0.022285</td>\n",
       "    </tr>\n",
       "    <tr>\n",
       "      <th>25</th>\n",
       "      <td>whisper_base_en</td>\n",
       "      <td>bangla</td>\n",
       "      <td>1.014203</td>\n",
       "      <td>0.795267</td>\n",
       "    </tr>\n",
       "    <tr>\n",
       "      <th>26</th>\n",
       "      <td>whisper_base_en</td>\n",
       "      <td>british</td>\n",
       "      <td>0.091590</td>\n",
       "      <td>0.041656</td>\n",
       "    </tr>\n",
       "    <tr>\n",
       "      <th>27</th>\n",
       "      <td>whisper_base_en</td>\n",
       "      <td>american</td>\n",
       "      <td>1.559605</td>\n",
       "      <td>1.369383</td>\n",
       "    </tr>\n",
       "  </tbody>\n",
       "</table>\n",
       "</div>"
      ],
      "text/plain": [
       "              model      accent       wer       cer\n",
       "0          wav2vec2      indian  0.177290  0.050668\n",
       "1          wav2vec2  australian  0.278997  0.098341\n",
       "2          wav2vec2       odiya  1.018639  0.785332\n",
       "3          wav2vec2       welsh  0.164228  0.044026\n",
       "4          wav2vec2      bangla  1.014374  0.785358\n",
       "5          wav2vec2     british  0.231586  0.076578\n",
       "6          wav2vec2    american  0.965017  0.727266\n",
       "7            hubert      indian  0.142111  0.036676\n",
       "8            hubert  australian  0.185998  0.058399\n",
       "9            hubert       odiya  1.017784  0.784655\n",
       "10           hubert       welsh  0.131661  0.032121\n",
       "11           hubert      bangla  1.017796  0.785857\n",
       "12           hubert     british  0.151141  0.041402\n",
       "13           hubert    american  0.942463  0.713601\n",
       "14     whisper_base      indian  0.092738  0.040505\n",
       "15     whisper_base  australian  0.169018  0.081718\n",
       "16     whisper_base       odiya  1.015561  0.795061\n",
       "17     whisper_base       welsh  0.069488  0.028020\n",
       "18     whisper_base      bangla  1.013860  0.794768\n",
       "19     whisper_base     british  0.135382  0.061549\n",
       "20     whisper_base    american  1.632924  1.462217\n",
       "21  whisper_base_en      indian  0.075932  0.032139\n",
       "22  whisper_base_en  australian  0.126698  0.059433\n",
       "23  whisper_base_en       odiya  1.017271  0.795025\n",
       "24  whisper_base_en       welsh  0.054162  0.022285\n",
       "25  whisper_base_en      bangla  1.014203  0.795267\n",
       "26  whisper_base_en     british  0.091590  0.041656\n",
       "27  whisper_base_en    american  1.559605  1.369383"
      ]
     },
     "execution_count": 34,
     "metadata": {},
     "output_type": "execute_result"
    }
   ],
   "source": [
    "wer_accent_df"
   ]
  },
  {
   "cell_type": "code",
   "execution_count": 40,
   "metadata": {},
   "outputs": [
    {
     "data": {
      "text/html": [
       "<div>\n",
       "<style scoped>\n",
       "    .dataframe tbody tr th:only-of-type {\n",
       "        vertical-align: middle;\n",
       "    }\n",
       "\n",
       "    .dataframe tbody tr th {\n",
       "        vertical-align: top;\n",
       "    }\n",
       "\n",
       "    .dataframe thead th {\n",
       "        text-align: right;\n",
       "    }\n",
       "</style>\n",
       "<table border=\"1\" class=\"dataframe\">\n",
       "  <thead>\n",
       "    <tr style=\"text-align: right;\">\n",
       "      <th></th>\n",
       "      <th>model</th>\n",
       "      <th>wer</th>\n",
       "      <th>cer</th>\n",
       "      <th>wer_std</th>\n",
       "      <th>cer_std</th>\n",
       "    </tr>\n",
       "  </thead>\n",
       "  <tbody>\n",
       "    <tr>\n",
       "      <th>0</th>\n",
       "      <td>wav2vec2</td>\n",
       "      <td>0.550019</td>\n",
       "      <td>0.366796</td>\n",
       "      <td>0.422308</td>\n",
       "      <td>0.374325</td>\n",
       "    </tr>\n",
       "    <tr>\n",
       "      <th>1</th>\n",
       "      <td>hubert</td>\n",
       "      <td>0.512708</td>\n",
       "      <td>0.350387</td>\n",
       "      <td>0.449984</td>\n",
       "      <td>0.385267</td>\n",
       "    </tr>\n",
       "    <tr>\n",
       "      <th>2</th>\n",
       "      <td>whisper_base</td>\n",
       "      <td>0.589853</td>\n",
       "      <td>0.466263</td>\n",
       "      <td>0.625907</td>\n",
       "      <td>0.561685</td>\n",
       "    </tr>\n",
       "    <tr>\n",
       "      <th>3</th>\n",
       "      <td>whisper_base_en</td>\n",
       "      <td>0.562780</td>\n",
       "      <td>0.445027</td>\n",
       "      <td>0.620739</td>\n",
       "      <td>0.541630</td>\n",
       "    </tr>\n",
       "  </tbody>\n",
       "</table>\n",
       "</div>"
      ],
      "text/plain": [
       "             model       wer       cer   wer_std   cer_std\n",
       "0         wav2vec2  0.550019  0.366796  0.422308  0.374325\n",
       "1           hubert  0.512708  0.350387  0.449984  0.385267\n",
       "2     whisper_base  0.589853  0.466263  0.625907  0.561685\n",
       "3  whisper_base_en  0.562780  0.445027  0.620739  0.541630"
      ]
     },
     "execution_count": 40,
     "metadata": {},
     "output_type": "execute_result"
    }
   ],
   "source": [
    "# Calculate the average WER for each model and create a new dataframe with the results.\n",
    "wer_avg_df = pd.DataFrame(columns=['model', 'wer'])\n",
    "wer_avg_df['model'] = ['wav2vec2', 'hubert', 'whisper_base', 'whisper_base_en']\n",
    "wer_avg_df['wer'] = [wer_accent_df[wer_accent_df['model'] == 'wav2vec2']['wer'].mean(),\n",
    "                    wer_accent_df[wer_accent_df['model'] == 'hubert']['wer'].mean(),\n",
    "                    wer_accent_df[wer_accent_df['model'] == 'whisper_base']['wer'].mean(),\n",
    "                    wer_accent_df[wer_accent_df['model'] == 'whisper_base_en']['wer'].mean()]\n",
    "\n",
    "# add cer\n",
    "wer_avg_df['cer'] = [wer_accent_df[wer_accent_df['model'] == 'wav2vec2']['cer'].mean(),\n",
    "                    wer_accent_df[wer_accent_df['model'] == 'hubert']['cer'].mean(),\n",
    "                    wer_accent_df[wer_accent_df['model'] == 'whisper_base']['cer'].mean(),\n",
    "                    wer_accent_df[wer_accent_df['model'] == 'whisper_base_en']['cer'].mean()]\n",
    "# add std\n",
    "wer_avg_df['wer_std'] = [wer_accent_df[wer_accent_df['model'] == 'wav2vec2']['wer'].std(),\n",
    "                    wer_accent_df[wer_accent_df['model'] == 'hubert']['wer'].std(),\n",
    "                    wer_accent_df[wer_accent_df['model'] == 'whisper_base']['wer'].std(),\n",
    "                    wer_accent_df[wer_accent_df['model'] == 'whisper_base_en']['wer'].std()]\n",
    "\n",
    "wer_avg_df['cer_std'] = [wer_accent_df[wer_accent_df['model'] == 'wav2vec2']['cer'].std(),\n",
    "                    wer_accent_df[wer_accent_df['model'] == 'hubert']['cer'].std(),\n",
    "                    wer_accent_df[wer_accent_df['model'] == 'whisper_base']['cer'].std(),\n",
    "                    wer_accent_df[wer_accent_df['model'] == 'whisper_base_en']['cer'].std()]\n",
    "\n",
    "\n",
    "wer_avg_df.head()"
   ]
  },
  {
   "cell_type": "code",
   "execution_count": 36,
   "metadata": {},
   "outputs": [],
   "source": [
    "wer_avg_df.to_csv(\"../results/wer_avg.csv\",index=False)"
   ]
  },
  {
   "cell_type": "code",
   "execution_count": 45,
   "metadata": {},
   "outputs": [],
   "source": [
    "from matplotlib import pyplot as plt\n",
    "import seaborn as sns"
   ]
  },
  {
   "cell_type": "code",
   "execution_count": 70,
   "metadata": {},
   "outputs": [
    {
     "data": {
      "image/png": "[encoded data removed]",
      "text/plain": [
       "<Figure size 640x480 with 1 Axes>"
      ]
     },
     "metadata": {},
     "output_type": "display_data"
    }
   ],
   "source": [
    "# plot a line plot of the WER for each model with the standard deviation\n",
    "# order the models by WER\n",
    "\n",
    "wer_df = wer_df.sort_values(by=['wer'])\n",
    "sns.set_theme(style=\"darkgrid\")\n",
    "sns.lineplot(data=wer_df, x=\"model\", y=\"wer\", marker='o', label='WER')\n",
    "sns.lineplot(data=wer_df, x=\"model\", y=\"cer\", marker='o', label='CER')\n",
    "plt.legend()   \n",
    "plt.savefig('../results/wer_avg.png')\n"
   ]
  },
  {
   "cell_type": "code",
   "execution_count": 71,
   "metadata": {},
   "outputs": [
    {
     "data": {
      "image/png": "[encoded data removed]",
      "text/plain": [
       "<Figure size 640x480 with 1 Axes>"
      ]
     },
     "metadata": {},
     "output_type": "display_data"
    }
   ],
   "source": [
    "# plot a line plot of the WER for each model with the standard deviation\n",
    "# exclude whisper_base_en\n",
    "wer_df = wer_df[wer_df['model'] != 'whisper_base_en']\n",
    "# order the models by WER\n",
    "wer_df = wer_df.sort_values(by=['wer'])\n",
    "sns.set_theme(style=\"darkgrid\")\n",
    "sns.lineplot(data=wer_df, x=\"model\", y=\"wer\", marker='o', label='WER')\n",
    "sns.lineplot(data=wer_df, x=\"model\", y=\"cer\", marker='o', label='CER')\n",
    "plt.legend()   \n",
    "plt.savefig('../results/wer_avg.png')\n",
    "\n"
   ]
  },
  {
   "cell_type": "code",
   "execution_count": 75,
   "metadata": {},
   "outputs": [
    {
     "data": {
      "image/png": "[encoded data removed]",
      "text/plain": [
       "<Figure size 1000x600 with 1 Axes>"
      ]
     },
     "metadata": {},
     "output_type": "display_data"
    }
   ],
   "source": [
    "# plot a bar plot of the WER for each model per accent \n",
    "# make it bigger\n",
    "plt.figure(figsize=(10, 6))\n",
    "sns.set_theme(style=\"darkgrid\")\n",
    "sns.barplot(data=wer_accent_df, x=\"model\", y=\"wer\", hue=\"accent\")\n",
    "plt.legend()\n",
    "plt.savefig('../results/wer_accent_en.png')\n"
   ]
  },
  {
   "cell_type": "code",
   "execution_count": 73,
   "metadata": {},
   "outputs": [
    {
     "data": {
      "image/png": "[encoded data removed]",
      "text/plain": [
       "<Figure size 1000x600 with 1 Axes>"
      ]
     },
     "metadata": {},
     "output_type": "display_data"
    }
   ],
   "source": [
    "# exclude whisper_base_en\n",
    "wer_accent_df = wer_accent_df[wer_accent_df['model'] != 'whisper_base_en']\n",
    "# plot a bar plot of the WER for each model per accent\n",
    "# make it bigger\n",
    "plt.figure(figsize=(10, 6))\n",
    "sns.set_theme(style=\"darkgrid\")\n",
    "sns.barplot(data=wer_accent_df, x=\"model\", y=\"wer\", hue=\"accent\")\n",
    "plt.legend()\n",
    "plt.savefig('../results/wer_accent.png')"
   ]
  },
  {
   "cell_type": "code",
   "execution_count": null,
   "metadata": {},
   "outputs": [],
   "source": []
  }
 ],
 "metadata": {
  "accelerator": "GPU",
  "colab": {
   "gpuType": "T4",
   "provenance": []
  },
  "kernelspec": {
   "display_name": "Python 3 (ipykernel)",
   "language": "python",
   "name": "python3"
  },
  "language_info": {
   "codemirror_mode": {
    "name": "ipython",
    "version": 3
   },
   "file_extension": ".py",
   "mimetype": "text/x-python",
   "name": "python",
   "nbconvert_exporter": "python",
   "pygments_lexer": "ipython3",
   "version": "3.9.16"
  },
  "widgets": {
   "application/vnd.jupyter.widget-state+json": {
    "04cd120c494a41189ad864aa2251b4bc": {
     "model_module": "@jupyter-widgets/base",
     "model_module_version": "1.2.0",
     "model_name": "LayoutModel",
     "state": {
      "_model_module": "@jupyter-widgets/base",
      "_model_module_version": "1.2.0",
      "_model_name": "LayoutModel",
      "_view_count": null,
      "_view_module": "@jupyter-widgets/base",
      "_view_module_version": "1.2.0",
      "_view_name": "LayoutView",
      "align_content": null,
      "align_items": null,
      "align_self": null,
      "border": null,
      "bottom": null,
      "display": null,
      "flex": null,
      "flex_flow": null,
      "grid_area": null,
      "grid_auto_columns": null,
      "grid_auto_flow": null,
      "grid_auto_rows": null,
      "grid_column": null,
      "grid_gap": null,
      "grid_row": null,
      "grid_template_areas": null,
      "grid_template_columns": null,
      "grid_template_rows": null,
      "height": null,
      "justify_content": null,
      "justify_items": null,
      "left": null,
      "margin": null,
      "max_height": null,
      "max_width": null,
      "min_height": null,
      "min_width": null,
      "object_fit": null,
      "object_position": null,
      "order": null,
      "overflow": null,
      "overflow_x": null,
      "overflow_y": null,
      "padding": null,
      "right": null,
      "top": null,
      "visibility": null,
      "width": null
     }
    },
    "0a7eb55df3af41e9bb8d4e8797a48d1a": {
     "model_module": "@jupyter-widgets/controls",
     "model_module_version": "1.5.0",
     "model_name": "HBoxModel",
     "state": {
      "_dom_classes": [],
      "_model_module": "@jupyter-widgets/controls",
      "_model_module_version": "1.5.0",
      "_model_name": "HBoxModel",
      "_view_count": null,
      "_view_module": "@jupyter-widgets/controls",
      "_view_module_version": "1.5.0",
      "_view_name": "HBoxView",
      "box_style": "",
      "children": [
       "IPY_MODEL_637d6b1907aa45b288abb720ac37d205",
       "IPY_MODEL_20047ab3f8f94dbe9271739db0e8b6a5",
       "IPY_MODEL_f5147456c9384fa09aaaa5ce3d06b70b"
      ],
      "layout": "IPY_MODEL_f1bdd26cf8964b58a0ddd555dc19d082"
     }
    },
    "1043e61c829447c49f91fedf5e084ca1": {
     "model_module": "@jupyter-widgets/controls",
     "model_module_version": "1.5.0",
     "model_name": "HTMLModel",
     "state": {
      "_dom_classes": [],
      "_model_module": "@jupyter-widgets/controls",
      "_model_module_version": "1.5.0",
      "_model_name": "HTMLModel",
      "_view_count": null,
      "_view_module": "@jupyter-widgets/controls",
      "_view_module_version": "1.5.0",
      "_view_name": "HTMLView",
      "description": "",
      "description_tooltip": null,
      "layout": "IPY_MODEL_e9138f69f568471398b7aa2f27026619",
      "placeholder": "​",
      "style": "IPY_MODEL_5bee91bb680f43c3b07714149fe67caa",
      "value": "100%"
     }
    },
    "1c33b46e9b734144a9da00f0ad73a359": {
     "model_module": "@jupyter-widgets/controls",
     "model_module_version": "1.5.0",
     "model_name": "FloatProgressModel",
     "state": {
      "_dom_classes": [],
      "_model_module": "@jupyter-widgets/controls",
      "_model_module_version": "1.5.0",
      "_model_name": "FloatProgressModel",
      "_view_count": null,
      "_view_module": "@jupyter-widgets/controls",
      "_view_module_version": "1.5.0",
      "_view_name": "ProgressView",
      "bar_style": "danger",
      "description": "",
      "description_tooltip": null,
      "layout": "IPY_MODEL_c9a3d5a9b2c64fc585cb2a83ba01ab14",
      "max": 12585,
      "min": 0,
      "orientation": "horizontal",
      "style": "IPY_MODEL_e426960970d542a49ad1faa758ab73b0",
      "value": 19
     }
    },
    "1ccbba86e9824d57ab9dfe1005613bd5": {
     "model_module": "@jupyter-widgets/base",
     "model_module_version": "1.2.0",
     "model_name": "LayoutModel",
     "state": {
      "_model_module": "@jupyter-widgets/base",
      "_model_module_version": "1.2.0",
      "_model_name": "LayoutModel",
      "_view_count": null,
      "_view_module": "@jupyter-widgets/base",
      "_view_module_version": "1.2.0",
      "_view_name": "LayoutView",
      "align_content": null,
      "align_items": null,
      "align_self": null,
      "border": null,
      "bottom": null,
      "display": null,
      "flex": null,
      "flex_flow": null,
      "grid_area": null,
      "grid_auto_columns": null,
      "grid_auto_flow": null,
      "grid_auto_rows": null,
      "grid_column": null,
      "grid_gap": null,
      "grid_row": null,
      "grid_template_areas": null,
      "grid_template_columns": null,
      "grid_template_rows": null,
      "height": null,
      "justify_content": null,
      "justify_items": null,
      "left": null,
      "margin": null,
      "max_height": null,
      "max_width": null,
      "min_height": null,
      "min_width": null,
      "object_fit": null,
      "object_position": null,
      "order": null,
      "overflow": null,
      "overflow_x": null,
      "overflow_y": null,
      "padding": null,
      "right": null,
      "top": null,
      "visibility": null,
      "width": null
     }
    },
    "1dd7048c5c874a4182ed6bc55d1044b1": {
     "model_module": "@jupyter-widgets/base",
     "model_module_version": "1.2.0",
     "model_name": "LayoutModel",
     "state": {
      "_model_module": "@jupyter-widgets/base",
      "_model_module_version": "1.2.0",
      "_model_name": "LayoutModel",
      "_view_count": null,
      "_view_module": "@jupyter-widgets/base",
      "_view_module_version": "1.2.0",
      "_view_name": "LayoutView",
      "align_content": null,
      "align_items": null,
      "align_self": null,
      "border": null,
      "bottom": null,
      "display": null,
      "flex": null,
      "flex_flow": null,
      "grid_area": null,
      "grid_auto_columns": null,
      "grid_auto_flow": null,
      "grid_auto_rows": null,
      "grid_column": null,
      "grid_gap": null,
      "grid_row": null,
      "grid_template_areas": null,
      "grid_template_columns": null,
      "grid_template_rows": null,
      "height": null,
      "justify_content": null,
      "justify_items": null,
      "left": null,
      "margin": null,
      "max_height": null,
      "max_width": null,
      "min_height": null,
      "min_width": null,
      "object_fit": null,
      "object_position": null,
      "order": null,
      "overflow": null,
      "overflow_x": null,
      "overflow_y": null,
      "padding": null,
      "right": null,
      "top": null,
      "visibility": null,
      "width": null
     }
    },
    "20047ab3f8f94dbe9271739db0e8b6a5": {
     "model_module": "@jupyter-widgets/controls",
     "model_module_version": "1.5.0",
     "model_name": "FloatProgressModel",
     "state": {
      "_dom_classes": [],
      "_model_module": "@jupyter-widgets/controls",
      "_model_module_version": "1.5.0",
      "_model_name": "FloatProgressModel",
      "_view_count": null,
      "_view_module": "@jupyter-widgets/controls",
      "_view_module_version": "1.5.0",
      "_view_name": "ProgressView",
      "bar_style": "danger",
      "description": "",
      "description_tooltip": null,
      "layout": "IPY_MODEL_9e3c1159981c4296a9ed66d5331fbbaa",
      "max": 12585,
      "min": 0,
      "orientation": "horizontal",
      "style": "IPY_MODEL_75a34a8f061b4827b09ddff5d839be44",
      "value": 40
     }
    },
    "22d0dd38cd054d47a65d6740b27aafe4": {
     "model_module": "@jupyter-widgets/controls",
     "model_module_version": "1.5.0",
     "model_name": "ProgressStyleModel",
     "state": {
      "_model_module": "@jupyter-widgets/controls",
      "_model_module_version": "1.5.0",
      "_model_name": "ProgressStyleModel",
      "_view_count": null,
      "_view_module": "@jupyter-widgets/base",
      "_view_module_version": "1.2.0",
      "_view_name": "StyleView",
      "bar_color": null,
      "description_width": ""
     }
    },
    "26a68154158142e8907f9cb00e2c0208": {
     "model_module": "@jupyter-widgets/base",
     "model_module_version": "1.2.0",
     "model_name": "LayoutModel",
     "state": {
      "_model_module": "@jupyter-widgets/base",
      "_model_module_version": "1.2.0",
      "_model_name": "LayoutModel",
      "_view_count": null,
      "_view_module": "@jupyter-widgets/base",
      "_view_module_version": "1.2.0",
      "_view_name": "LayoutView",
      "align_content": null,
      "align_items": null,
      "align_self": null,
      "border": null,
      "bottom": null,
      "display": null,
      "flex": null,
      "flex_flow": null,
      "grid_area": null,
      "grid_auto_columns": null,
      "grid_auto_flow": null,
      "grid_auto_rows": null,
      "grid_column": null,
      "grid_gap": null,
      "grid_row": null,
      "grid_template_areas": null,
      "grid_template_columns": null,
      "grid_template_rows": null,
      "height": null,
      "justify_content": null,
      "justify_items": null,
      "left": null,
      "margin": null,
      "max_height": null,
      "max_width": null,
      "min_height": null,
      "min_width": null,
      "object_fit": null,
      "object_position": null,
      "order": null,
      "overflow": null,
      "overflow_x": null,
      "overflow_y": null,
      "padding": null,
      "right": null,
      "top": null,
      "visibility": null,
      "width": null
     }
    },
    "3fdb96eaf3934e5ca3d3dd91e3be6bb6": {
     "model_module": "@jupyter-widgets/base",
     "model_module_version": "1.2.0",
     "model_name": "LayoutModel",
     "state": {
      "_model_module": "@jupyter-widgets/base",
      "_model_module_version": "1.2.0",
      "_model_name": "LayoutModel",
      "_view_count": null,
      "_view_module": "@jupyter-widgets/base",
      "_view_module_version": "1.2.0",
      "_view_name": "LayoutView",
      "align_content": null,
      "align_items": null,
      "align_self": null,
      "border": null,
      "bottom": null,
      "display": null,
      "flex": null,
      "flex_flow": null,
      "grid_area": null,
      "grid_auto_columns": null,
      "grid_auto_flow": null,
      "grid_auto_rows": null,
      "grid_column": null,
      "grid_gap": null,
      "grid_row": null,
      "grid_template_areas": null,
      "grid_template_columns": null,
      "grid_template_rows": null,
      "height": null,
      "justify_content": null,
      "justify_items": null,
      "left": null,
      "margin": null,
      "max_height": null,
      "max_width": null,
      "min_height": null,
      "min_width": null,
      "object_fit": null,
      "object_position": null,
      "order": null,
      "overflow": null,
      "overflow_x": null,
      "overflow_y": null,
      "padding": null,
      "right": null,
      "top": null,
      "visibility": null,
      "width": null
     }
    },
    "44dc931fc72e4c3789e5c745184e132e": {
     "model_module": "@jupyter-widgets/base",
     "model_module_version": "1.2.0",
     "model_name": "LayoutModel",
     "state": {
      "_model_module": "@jupyter-widgets/base",
      "_model_module_version": "1.2.0",
      "_model_name": "LayoutModel",
      "_view_count": null,
      "_view_module": "@jupyter-widgets/base",
      "_view_module_version": "1.2.0",
      "_view_name": "LayoutView",
      "align_content": null,
      "align_items": null,
      "align_self": null,
      "border": null,
      "bottom": null,
      "display": null,
      "flex": null,
      "flex_flow": null,
      "grid_area": null,
      "grid_auto_columns": null,
      "grid_auto_flow": null,
      "grid_auto_rows": null,
      "grid_column": null,
      "grid_gap": null,
      "grid_row": null,
      "grid_template_areas": null,
      "grid_template_columns": null,
      "grid_template_rows": null,
      "height": null,
      "justify_content": null,
      "justify_items": null,
      "left": null,
      "margin": null,
      "max_height": null,
      "max_width": null,
      "min_height": null,
      "min_width": null,
      "object_fit": null,
      "object_position": null,
      "order": null,
      "overflow": null,
      "overflow_x": null,
      "overflow_y": null,
      "padding": null,
      "right": null,
      "top": null,
      "visibility": null,
      "width": null
     }
    },
    "47cc1379d4694571932c0d62489162b3": {
     "model_module": "@jupyter-widgets/base",
     "model_module_version": "1.2.0",
     "model_name": "LayoutModel",
     "state": {
      "_model_module": "@jupyter-widgets/base",
      "_model_module_version": "1.2.0",
      "_model_name": "LayoutModel",
      "_view_count": null,
      "_view_module": "@jupyter-widgets/base",
      "_view_module_version": "1.2.0",
      "_view_name": "LayoutView",
      "align_content": null,
      "align_items": null,
      "align_self": null,
      "border": null,
      "bottom": null,
      "display": null,
      "flex": null,
      "flex_flow": null,
      "grid_area": null,
      "grid_auto_columns": null,
      "grid_auto_flow": null,
      "grid_auto_rows": null,
      "grid_column": null,
      "grid_gap": null,
      "grid_row": null,
      "grid_template_areas": null,
      "grid_template_columns": null,
      "grid_template_rows": null,
      "height": null,
      "justify_content": null,
      "justify_items": null,
      "left": null,
      "margin": null,
      "max_height": null,
      "max_width": null,
      "min_height": null,
      "min_width": null,
      "object_fit": null,
      "object_position": null,
      "order": null,
      "overflow": null,
      "overflow_x": null,
      "overflow_y": null,
      "padding": null,
      "right": null,
      "top": null,
      "visibility": null,
      "width": null
     }
    },
    "49dfccea0ff34dc893ff560b93248244": {
     "model_module": "@jupyter-widgets/controls",
     "model_module_version": "1.5.0",
     "model_name": "ProgressStyleModel",
     "state": {
      "_model_module": "@jupyter-widgets/controls",
      "_model_module_version": "1.5.0",
      "_model_name": "ProgressStyleModel",
      "_view_count": null,
      "_view_module": "@jupyter-widgets/base",
      "_view_module_version": "1.2.0",
      "_view_name": "StyleView",
      "bar_color": null,
      "description_width": ""
     }
    },
    "4bae8f05aebc4daa846fc1195b24e16d": {
     "model_module": "@jupyter-widgets/controls",
     "model_module_version": "1.5.0",
     "model_name": "HTMLModel",
     "state": {
      "_dom_classes": [],
      "_model_module": "@jupyter-widgets/controls",
      "_model_module_version": "1.5.0",
      "_model_name": "HTMLModel",
      "_view_count": null,
      "_view_module": "@jupyter-widgets/controls",
      "_view_module_version": "1.5.0",
      "_view_name": "HTMLView",
      "description": "",
      "description_tooltip": null,
      "layout": "IPY_MODEL_3fdb96eaf3934e5ca3d3dd91e3be6bb6",
      "placeholder": "​",
      "style": "IPY_MODEL_7e3abb71794140b9b84d6016dc2328de",
      "value": " 1/1 [00:00&lt;00:00,  6.61it/s]"
     }
    },
    "4c9a829e56bc490ea943a2293455a914": {
     "model_module": "@jupyter-widgets/base",
     "model_module_version": "1.2.0",
     "model_name": "LayoutModel",
     "state": {
      "_model_module": "@jupyter-widgets/base",
      "_model_module_version": "1.2.0",
      "_model_name": "LayoutModel",
      "_view_count": null,
      "_view_module": "@jupyter-widgets/base",
      "_view_module_version": "1.2.0",
      "_view_name": "LayoutView",
      "align_content": null,
      "align_items": null,
      "align_self": null,
      "border": null,
      "bottom": null,
      "display": null,
      "flex": null,
      "flex_flow": null,
      "grid_area": null,
      "grid_auto_columns": null,
      "grid_auto_flow": null,
      "grid_auto_rows": null,
      "grid_column": null,
      "grid_gap": null,
      "grid_row": null,
      "grid_template_areas": null,
      "grid_template_columns": null,
      "grid_template_rows": null,
      "height": null,
      "justify_content": null,
      "justify_items": null,
      "left": null,
      "margin": null,
      "max_height": null,
      "max_width": null,
      "min_height": null,
      "min_width": null,
      "object_fit": null,
      "object_position": null,
      "order": null,
      "overflow": null,
      "overflow_x": null,
      "overflow_y": null,
      "padding": null,
      "right": null,
      "top": null,
      "visibility": null,
      "width": null
     }
    },
    "5aab0832224d42dea3f5552ff40c8224": {
     "model_module": "@jupyter-widgets/base",
     "model_module_version": "1.2.0",
     "model_name": "LayoutModel",
     "state": {
      "_model_module": "@jupyter-widgets/base",
      "_model_module_version": "1.2.0",
      "_model_name": "LayoutModel",
      "_view_count": null,
      "_view_module": "@jupyter-widgets/base",
      "_view_module_version": "1.2.0",
      "_view_name": "LayoutView",
      "align_content": null,
      "align_items": null,
      "align_self": null,
      "border": null,
      "bottom": null,
      "display": null,
      "flex": null,
      "flex_flow": null,
      "grid_area": null,
      "grid_auto_columns": null,
      "grid_auto_flow": null,
      "grid_auto_rows": null,
      "grid_column": null,
      "grid_gap": null,
      "grid_row": null,
      "grid_template_areas": null,
      "grid_template_columns": null,
      "grid_template_rows": null,
      "height": null,
      "justify_content": null,
      "justify_items": null,
      "left": null,
      "margin": null,
      "max_height": null,
      "max_width": null,
      "min_height": null,
      "min_width": null,
      "object_fit": null,
      "object_position": null,
      "order": null,
      "overflow": null,
      "overflow_x": null,
      "overflow_y": null,
      "padding": null,
      "right": null,
      "top": null,
      "visibility": null,
      "width": null
     }
    },
    "5bee91bb680f43c3b07714149fe67caa": {
     "model_module": "@jupyter-widgets/controls",
     "model_module_version": "1.5.0",
     "model_name": "DescriptionStyleModel",
     "state": {
      "_model_module": "@jupyter-widgets/controls",
      "_model_module_version": "1.5.0",
      "_model_name": "DescriptionStyleModel",
      "_view_count": null,
      "_view_module": "@jupyter-widgets/base",
      "_view_module_version": "1.2.0",
      "_view_name": "StyleView",
      "description_width": ""
     }
    },
    "637d6b1907aa45b288abb720ac37d205": {
     "model_module": "@jupyter-widgets/controls",
     "model_module_version": "1.5.0",
     "model_name": "HTMLModel",
     "state": {
      "_dom_classes": [],
      "_model_module": "@jupyter-widgets/controls",
      "_model_module_version": "1.5.0",
      "_model_name": "HTMLModel",
      "_view_count": null,
      "_view_module": "@jupyter-widgets/controls",
      "_view_module_version": "1.5.0",
      "_view_name": "HTMLView",
      "description": "",
      "description_tooltip": null,
      "layout": "IPY_MODEL_a066b9a45d0347b48273005b27c626b5",
      "placeholder": "​",
      "style": "IPY_MODEL_73efc16a5de942ea915c0ad80f3e14fd",
      "value": "Map:   0%"
     }
    },
    "66576ca4a2d6469a86eccf7297ab2685": {
     "model_module": "@jupyter-widgets/controls",
     "model_module_version": "1.5.0",
     "model_name": "DescriptionStyleModel",
     "state": {
      "_model_module": "@jupyter-widgets/controls",
      "_model_module_version": "1.5.0",
      "_model_name": "DescriptionStyleModel",
      "_view_count": null,
      "_view_module": "@jupyter-widgets/base",
      "_view_module_version": "1.2.0",
      "_view_name": "StyleView",
      "description_width": ""
     }
    },
    "6778609b42c946e899220adad8b0fc7b": {
     "model_module": "@jupyter-widgets/base",
     "model_module_version": "1.2.0",
     "model_name": "LayoutModel",
     "state": {
      "_model_module": "@jupyter-widgets/base",
      "_model_module_version": "1.2.0",
      "_model_name": "LayoutModel",
      "_view_count": null,
      "_view_module": "@jupyter-widgets/base",
      "_view_module_version": "1.2.0",
      "_view_name": "LayoutView",
      "align_content": null,
      "align_items": null,
      "align_self": null,
      "border": null,
      "bottom": null,
      "display": null,
      "flex": null,
      "flex_flow": null,
      "grid_area": null,
      "grid_auto_columns": null,
      "grid_auto_flow": null,
      "grid_auto_rows": null,
      "grid_column": null,
      "grid_gap": null,
      "grid_row": null,
      "grid_template_areas": null,
      "grid_template_columns": null,
      "grid_template_rows": null,
      "height": null,
      "justify_content": null,
      "justify_items": null,
      "left": null,
      "margin": null,
      "max_height": null,
      "max_width": null,
      "min_height": null,
      "min_width": null,
      "object_fit": null,
      "object_position": null,
      "order": null,
      "overflow": null,
      "overflow_x": null,
      "overflow_y": null,
      "padding": null,
      "right": null,
      "top": null,
      "visibility": null,
      "width": null
     }
    },
    "69b4233d07cb4f858a454ef417f4b123": {
     "model_module": "@jupyter-widgets/controls",
     "model_module_version": "1.5.0",
     "model_name": "HTMLModel",
     "state": {
      "_dom_classes": [],
      "_model_module": "@jupyter-widgets/controls",
      "_model_module_version": "1.5.0",
      "_model_name": "HTMLModel",
      "_view_count": null,
      "_view_module": "@jupyter-widgets/controls",
      "_view_module_version": "1.5.0",
      "_view_name": "HTMLView",
      "description": "",
      "description_tooltip": null,
      "layout": "IPY_MODEL_47cc1379d4694571932c0d62489162b3",
      "placeholder": "​",
      "style": "IPY_MODEL_66576ca4a2d6469a86eccf7297ab2685",
      "value": " 108/12585 [00:08&lt;18:17, 11.37 examples/s]"
     }
    },
    "6f9c629ad1c2415f829ace4f01c06cbb": {
     "model_module": "@jupyter-widgets/base",
     "model_module_version": "1.2.0",
     "model_name": "LayoutModel",
     "state": {
      "_model_module": "@jupyter-widgets/base",
      "_model_module_version": "1.2.0",
      "_model_name": "LayoutModel",
      "_view_count": null,
      "_view_module": "@jupyter-widgets/base",
      "_view_module_version": "1.2.0",
      "_view_name": "LayoutView",
      "align_content": null,
      "align_items": null,
      "align_self": null,
      "border": null,
      "bottom": null,
      "display": null,
      "flex": null,
      "flex_flow": null,
      "grid_area": null,
      "grid_auto_columns": null,
      "grid_auto_flow": null,
      "grid_auto_rows": null,
      "grid_column": null,
      "grid_gap": null,
      "grid_row": null,
      "grid_template_areas": null,
      "grid_template_columns": null,
      "grid_template_rows": null,
      "height": null,
      "justify_content": null,
      "justify_items": null,
      "left": null,
      "margin": null,
      "max_height": null,
      "max_width": null,
      "min_height": null,
      "min_width": null,
      "object_fit": null,
      "object_position": null,
      "order": null,
      "overflow": null,
      "overflow_x": null,
      "overflow_y": null,
      "padding": null,
      "right": null,
      "top": null,
      "visibility": null,
      "width": null
     }
    },
    "729cbcbbb6a24fd9a4c20bea31349bb4": {
     "model_module": "@jupyter-widgets/controls",
     "model_module_version": "1.5.0",
     "model_name": "DescriptionStyleModel",
     "state": {
      "_model_module": "@jupyter-widgets/controls",
      "_model_module_version": "1.5.0",
      "_model_name": "DescriptionStyleModel",
      "_view_count": null,
      "_view_module": "@jupyter-widgets/base",
      "_view_module_version": "1.2.0",
      "_view_name": "StyleView",
      "description_width": ""
     }
    },
    "73efc16a5de942ea915c0ad80f3e14fd": {
     "model_module": "@jupyter-widgets/controls",
     "model_module_version": "1.5.0",
     "model_name": "DescriptionStyleModel",
     "state": {
      "_model_module": "@jupyter-widgets/controls",
      "_model_module_version": "1.5.0",
      "_model_name": "DescriptionStyleModel",
      "_view_count": null,
      "_view_module": "@jupyter-widgets/base",
      "_view_module_version": "1.2.0",
      "_view_name": "StyleView",
      "description_width": ""
     }
    },
    "7595e0fce3ce4b68b949290d08e1df3b": {
     "model_module": "@jupyter-widgets/controls",
     "model_module_version": "1.5.0",
     "model_name": "HTMLModel",
     "state": {
      "_dom_classes": [],
      "_model_module": "@jupyter-widgets/controls",
      "_model_module_version": "1.5.0",
      "_model_name": "HTMLModel",
      "_view_count": null,
      "_view_module": "@jupyter-widgets/controls",
      "_view_module_version": "1.5.0",
      "_view_name": "HTMLView",
      "description": "",
      "description_tooltip": null,
      "layout": "IPY_MODEL_ec286a941a834b3083c86c42a4dc0f08",
      "placeholder": "​",
      "style": "IPY_MODEL_94837b9720704acd995901f14154e9e5",
      "value": " 19/12585 [00:06&lt;1:36:19,  2.17 examples/s]"
     }
    },
    "75a34a8f061b4827b09ddff5d839be44": {
     "model_module": "@jupyter-widgets/controls",
     "model_module_version": "1.5.0",
     "model_name": "ProgressStyleModel",
     "state": {
      "_model_module": "@jupyter-widgets/controls",
      "_model_module_version": "1.5.0",
      "_model_name": "ProgressStyleModel",
      "_view_count": null,
      "_view_module": "@jupyter-widgets/base",
      "_view_module_version": "1.2.0",
      "_view_name": "StyleView",
      "bar_color": null,
      "description_width": ""
     }
    },
    "77473cb7a8b3499087705787fcc8c697": {
     "model_module": "@jupyter-widgets/controls",
     "model_module_version": "1.5.0",
     "model_name": "HTMLModel",
     "state": {
      "_dom_classes": [],
      "_model_module": "@jupyter-widgets/controls",
      "_model_module_version": "1.5.0",
      "_model_name": "HTMLModel",
      "_view_count": null,
      "_view_module": "@jupyter-widgets/controls",
      "_view_module_version": "1.5.0",
      "_view_name": "HTMLView",
      "description": "",
      "description_tooltip": null,
      "layout": "IPY_MODEL_6f9c629ad1c2415f829ace4f01c06cbb",
      "placeholder": "​",
      "style": "IPY_MODEL_f664ee66cb174894961084bac4458e64",
      "value": "Map:   1%"
     }
    },
    "7e3abb71794140b9b84d6016dc2328de": {
     "model_module": "@jupyter-widgets/controls",
     "model_module_version": "1.5.0",
     "model_name": "DescriptionStyleModel",
     "state": {
      "_model_module": "@jupyter-widgets/controls",
      "_model_module_version": "1.5.0",
      "_model_name": "DescriptionStyleModel",
      "_view_count": null,
      "_view_module": "@jupyter-widgets/base",
      "_view_module_version": "1.2.0",
      "_view_name": "StyleView",
      "description_width": ""
     }
    },
    "7fa2d84364564f5bb41edc465114eb6a": {
     "model_module": "@jupyter-widgets/controls",
     "model_module_version": "1.5.0",
     "model_name": "ProgressStyleModel",
     "state": {
      "_model_module": "@jupyter-widgets/controls",
      "_model_module_version": "1.5.0",
      "_model_name": "ProgressStyleModel",
      "_view_count": null,
      "_view_module": "@jupyter-widgets/base",
      "_view_module_version": "1.2.0",
      "_view_name": "StyleView",
      "bar_color": null,
      "description_width": ""
     }
    },
    "80553f6386ca432f86c088b1230466cf": {
     "model_module": "@jupyter-widgets/controls",
     "model_module_version": "1.5.0",
     "model_name": "HTMLModel",
     "state": {
      "_dom_classes": [],
      "_model_module": "@jupyter-widgets/controls",
      "_model_module_version": "1.5.0",
      "_model_name": "HTMLModel",
      "_view_count": null,
      "_view_module": "@jupyter-widgets/controls",
      "_view_module_version": "1.5.0",
      "_view_name": "HTMLView",
      "description": "",
      "description_tooltip": null,
      "layout": "IPY_MODEL_4c9a829e56bc490ea943a2293455a914",
      "placeholder": "​",
      "style": "IPY_MODEL_d90ab2c021c94e1b98c0a02a2ffeec26",
      "value": " 68/12585 [00:06&lt;21:45,  9.59 examples/s]"
     }
    },
    "83470ca33d3b4a51a955a4d9881922cf": {
     "model_module": "@jupyter-widgets/base",
     "model_module_version": "1.2.0",
     "model_name": "LayoutModel",
     "state": {
      "_model_module": "@jupyter-widgets/base",
      "_model_module_version": "1.2.0",
      "_model_name": "LayoutModel",
      "_view_count": null,
      "_view_module": "@jupyter-widgets/base",
      "_view_module_version": "1.2.0",
      "_view_name": "LayoutView",
      "align_content": null,
      "align_items": null,
      "align_self": null,
      "border": null,
      "bottom": null,
      "display": null,
      "flex": null,
      "flex_flow": null,
      "grid_area": null,
      "grid_auto_columns": null,
      "grid_auto_flow": null,
      "grid_auto_rows": null,
      "grid_column": null,
      "grid_gap": null,
      "grid_row": null,
      "grid_template_areas": null,
      "grid_template_columns": null,
      "grid_template_rows": null,
      "height": null,
      "justify_content": null,
      "justify_items": null,
      "left": null,
      "margin": null,
      "max_height": null,
      "max_width": null,
      "min_height": null,
      "min_width": null,
      "object_fit": null,
      "object_position": null,
      "order": null,
      "overflow": null,
      "overflow_x": null,
      "overflow_y": null,
      "padding": null,
      "right": null,
      "top": null,
      "visibility": null,
      "width": null
     }
    },
    "8492870e1bf542b28ae7e07ba952f787": {
     "model_module": "@jupyter-widgets/controls",
     "model_module_version": "1.5.0",
     "model_name": "DescriptionStyleModel",
     "state": {
      "_model_module": "@jupyter-widgets/controls",
      "_model_module_version": "1.5.0",
      "_model_name": "DescriptionStyleModel",
      "_view_count": null,
      "_view_module": "@jupyter-widgets/base",
      "_view_module_version": "1.2.0",
      "_view_name": "StyleView",
      "description_width": ""
     }
    },
    "94837b9720704acd995901f14154e9e5": {
     "model_module": "@jupyter-widgets/controls",
     "model_module_version": "1.5.0",
     "model_name": "DescriptionStyleModel",
     "state": {
      "_model_module": "@jupyter-widgets/controls",
      "_model_module_version": "1.5.0",
      "_model_name": "DescriptionStyleModel",
      "_view_count": null,
      "_view_module": "@jupyter-widgets/base",
      "_view_module_version": "1.2.0",
      "_view_name": "StyleView",
      "description_width": ""
     }
    },
    "9e3c1159981c4296a9ed66d5331fbbaa": {
     "model_module": "@jupyter-widgets/base",
     "model_module_version": "1.2.0",
     "model_name": "LayoutModel",
     "state": {
      "_model_module": "@jupyter-widgets/base",
      "_model_module_version": "1.2.0",
      "_model_name": "LayoutModel",
      "_view_count": null,
      "_view_module": "@jupyter-widgets/base",
      "_view_module_version": "1.2.0",
      "_view_name": "LayoutView",
      "align_content": null,
      "align_items": null,
      "align_self": null,
      "border": null,
      "bottom": null,
      "display": null,
      "flex": null,
      "flex_flow": null,
      "grid_area": null,
      "grid_auto_columns": null,
      "grid_auto_flow": null,
      "grid_auto_rows": null,
      "grid_column": null,
      "grid_gap": null,
      "grid_row": null,
      "grid_template_areas": null,
      "grid_template_columns": null,
      "grid_template_rows": null,
      "height": null,
      "justify_content": null,
      "justify_items": null,
      "left": null,
      "margin": null,
      "max_height": null,
      "max_width": null,
      "min_height": null,
      "min_width": null,
      "object_fit": null,
      "object_position": null,
      "order": null,
      "overflow": null,
      "overflow_x": null,
      "overflow_y": null,
      "padding": null,
      "right": null,
      "top": null,
      "visibility": null,
      "width": null
     }
    },
    "a066b9a45d0347b48273005b27c626b5": {
     "model_module": "@jupyter-widgets/base",
     "model_module_version": "1.2.0",
     "model_name": "LayoutModel",
     "state": {
      "_model_module": "@jupyter-widgets/base",
      "_model_module_version": "1.2.0",
      "_model_name": "LayoutModel",
      "_view_count": null,
      "_view_module": "@jupyter-widgets/base",
      "_view_module_version": "1.2.0",
      "_view_name": "LayoutView",
      "align_content": null,
      "align_items": null,
      "align_self": null,
      "border": null,
      "bottom": null,
      "display": null,
      "flex": null,
      "flex_flow": null,
      "grid_area": null,
      "grid_auto_columns": null,
      "grid_auto_flow": null,
      "grid_auto_rows": null,
      "grid_column": null,
      "grid_gap": null,
      "grid_row": null,
      "grid_template_areas": null,
      "grid_template_columns": null,
      "grid_template_rows": null,
      "height": null,
      "justify_content": null,
      "justify_items": null,
      "left": null,
      "margin": null,
      "max_height": null,
      "max_width": null,
      "min_height": null,
      "min_width": null,
      "object_fit": null,
      "object_position": null,
      "order": null,
      "overflow": null,
      "overflow_x": null,
      "overflow_y": null,
      "padding": null,
      "right": null,
      "top": null,
      "visibility": null,
      "width": null
     }
    },
    "a1ab76f9a4314d7cb3a70fd530a843c4": {
     "model_module": "@jupyter-widgets/controls",
     "model_module_version": "1.5.0",
     "model_name": "HBoxModel",
     "state": {
      "_dom_classes": [],
      "_model_module": "@jupyter-widgets/controls",
      "_model_module_version": "1.5.0",
      "_model_name": "HBoxModel",
      "_view_count": null,
      "_view_module": "@jupyter-widgets/controls",
      "_view_module_version": "1.5.0",
      "_view_name": "HBoxView",
      "box_style": "",
      "children": [
       "IPY_MODEL_b941235e3b1441658845d1cfbf7f0296",
       "IPY_MODEL_1c33b46e9b734144a9da00f0ad73a359",
       "IPY_MODEL_7595e0fce3ce4b68b949290d08e1df3b"
      ],
      "layout": "IPY_MODEL_44dc931fc72e4c3789e5c745184e132e"
     }
    },
    "b0991480a40d4dbc87f09e1382be2955": {
     "model_module": "@jupyter-widgets/controls",
     "model_module_version": "1.5.0",
     "model_name": "HBoxModel",
     "state": {
      "_dom_classes": [],
      "_model_module": "@jupyter-widgets/controls",
      "_model_module_version": "1.5.0",
      "_model_name": "HBoxModel",
      "_view_count": null,
      "_view_module": "@jupyter-widgets/controls",
      "_view_module_version": "1.5.0",
      "_view_name": "HBoxView",
      "box_style": "",
      "children": [
       "IPY_MODEL_becff2ec10d64e1f89f85db3ebd9ba08",
       "IPY_MODEL_e97e9c7e7a134ca0a5cd0aef4ffe55de",
       "IPY_MODEL_69b4233d07cb4f858a454ef417f4b123"
      ],
      "layout": "IPY_MODEL_d512544c776e4262b76a6c64423361fc"
     }
    },
    "b1c8d16b62354e34895abfb6883cbf8e": {
     "model_module": "@jupyter-widgets/controls",
     "model_module_version": "1.5.0",
     "model_name": "HBoxModel",
     "state": {
      "_dom_classes": [],
      "_model_module": "@jupyter-widgets/controls",
      "_model_module_version": "1.5.0",
      "_model_name": "HBoxModel",
      "_view_count": null,
      "_view_module": "@jupyter-widgets/controls",
      "_view_module_version": "1.5.0",
      "_view_name": "HBoxView",
      "box_style": "",
      "children": [
       "IPY_MODEL_1043e61c829447c49f91fedf5e084ca1",
       "IPY_MODEL_dcbf527f82ae4fb080430f6c0e4d730e",
       "IPY_MODEL_4bae8f05aebc4daa846fc1195b24e16d"
      ],
      "layout": "IPY_MODEL_feb4417dd5c64fe5929b42943150e880"
     }
    },
    "b941235e3b1441658845d1cfbf7f0296": {
     "model_module": "@jupyter-widgets/controls",
     "model_module_version": "1.5.0",
     "model_name": "HTMLModel",
     "state": {
      "_dom_classes": [],
      "_model_module": "@jupyter-widgets/controls",
      "_model_module_version": "1.5.0",
      "_model_name": "HTMLModel",
      "_view_count": null,
      "_view_module": "@jupyter-widgets/controls",
      "_view_module_version": "1.5.0",
      "_view_name": "HTMLView",
      "description": "",
      "description_tooltip": null,
      "layout": "IPY_MODEL_6778609b42c946e899220adad8b0fc7b",
      "placeholder": "​",
      "style": "IPY_MODEL_c9dd984db232428eace07d1d0e04c73f",
      "value": "Map:   0%"
     }
    },
    "bb74729de2db47fbb23ac43b88d54a8a": {
     "model_module": "@jupyter-widgets/controls",
     "model_module_version": "1.5.0",
     "model_name": "FloatProgressModel",
     "state": {
      "_dom_classes": [],
      "_model_module": "@jupyter-widgets/controls",
      "_model_module_version": "1.5.0",
      "_model_name": "FloatProgressModel",
      "_view_count": null,
      "_view_module": "@jupyter-widgets/controls",
      "_view_module_version": "1.5.0",
      "_view_name": "ProgressView",
      "bar_style": "danger",
      "description": "",
      "description_tooltip": null,
      "layout": "IPY_MODEL_26a68154158142e8907f9cb00e2c0208",
      "max": 12585,
      "min": 0,
      "orientation": "horizontal",
      "style": "IPY_MODEL_22d0dd38cd054d47a65d6740b27aafe4",
      "value": 68
     }
    },
    "becff2ec10d64e1f89f85db3ebd9ba08": {
     "model_module": "@jupyter-widgets/controls",
     "model_module_version": "1.5.0",
     "model_name": "HTMLModel",
     "state": {
      "_dom_classes": [],
      "_model_module": "@jupyter-widgets/controls",
      "_model_module_version": "1.5.0",
      "_model_name": "HTMLModel",
      "_view_count": null,
      "_view_module": "@jupyter-widgets/controls",
      "_view_module_version": "1.5.0",
      "_view_name": "HTMLView",
      "description": "",
      "description_tooltip": null,
      "layout": "IPY_MODEL_1ccbba86e9824d57ab9dfe1005613bd5",
      "placeholder": "​",
      "style": "IPY_MODEL_729cbcbbb6a24fd9a4c20bea31349bb4",
      "value": "Map:   1%"
     }
    },
    "c9a3d5a9b2c64fc585cb2a83ba01ab14": {
     "model_module": "@jupyter-widgets/base",
     "model_module_version": "1.2.0",
     "model_name": "LayoutModel",
     "state": {
      "_model_module": "@jupyter-widgets/base",
      "_model_module_version": "1.2.0",
      "_model_name": "LayoutModel",
      "_view_count": null,
      "_view_module": "@jupyter-widgets/base",
      "_view_module_version": "1.2.0",
      "_view_name": "LayoutView",
      "align_content": null,
      "align_items": null,
      "align_self": null,
      "border": null,
      "bottom": null,
      "display": null,
      "flex": null,
      "flex_flow": null,
      "grid_area": null,
      "grid_auto_columns": null,
      "grid_auto_flow": null,
      "grid_auto_rows": null,
      "grid_column": null,
      "grid_gap": null,
      "grid_row": null,
      "grid_template_areas": null,
      "grid_template_columns": null,
      "grid_template_rows": null,
      "height": null,
      "justify_content": null,
      "justify_items": null,
      "left": null,
      "margin": null,
      "max_height": null,
      "max_width": null,
      "min_height": null,
      "min_width": null,
      "object_fit": null,
      "object_position": null,
      "order": null,
      "overflow": null,
      "overflow_x": null,
      "overflow_y": null,
      "padding": null,
      "right": null,
      "top": null,
      "visibility": null,
      "width": null
     }
    },
    "c9dd984db232428eace07d1d0e04c73f": {
     "model_module": "@jupyter-widgets/controls",
     "model_module_version": "1.5.0",
     "model_name": "DescriptionStyleModel",
     "state": {
      "_model_module": "@jupyter-widgets/controls",
      "_model_module_version": "1.5.0",
      "_model_name": "DescriptionStyleModel",
      "_view_count": null,
      "_view_module": "@jupyter-widgets/base",
      "_view_module_version": "1.2.0",
      "_view_name": "StyleView",
      "description_width": ""
     }
    },
    "d512544c776e4262b76a6c64423361fc": {
     "model_module": "@jupyter-widgets/base",
     "model_module_version": "1.2.0",
     "model_name": "LayoutModel",
     "state": {
      "_model_module": "@jupyter-widgets/base",
      "_model_module_version": "1.2.0",
      "_model_name": "LayoutModel",
      "_view_count": null,
      "_view_module": "@jupyter-widgets/base",
      "_view_module_version": "1.2.0",
      "_view_name": "LayoutView",
      "align_content": null,
      "align_items": null,
      "align_self": null,
      "border": null,
      "bottom": null,
      "display": null,
      "flex": null,
      "flex_flow": null,
      "grid_area": null,
      "grid_auto_columns": null,
      "grid_auto_flow": null,
      "grid_auto_rows": null,
      "grid_column": null,
      "grid_gap": null,
      "grid_row": null,
      "grid_template_areas": null,
      "grid_template_columns": null,
      "grid_template_rows": null,
      "height": null,
      "justify_content": null,
      "justify_items": null,
      "left": null,
      "margin": null,
      "max_height": null,
      "max_width": null,
      "min_height": null,
      "min_width": null,
      "object_fit": null,
      "object_position": null,
      "order": null,
      "overflow": null,
      "overflow_x": null,
      "overflow_y": null,
      "padding": null,
      "right": null,
      "top": null,
      "visibility": null,
      "width": null
     }
    },
    "d90ab2c021c94e1b98c0a02a2ffeec26": {
     "model_module": "@jupyter-widgets/controls",
     "model_module_version": "1.5.0",
     "model_name": "DescriptionStyleModel",
     "state": {
      "_model_module": "@jupyter-widgets/controls",
      "_model_module_version": "1.5.0",
      "_model_name": "DescriptionStyleModel",
      "_view_count": null,
      "_view_module": "@jupyter-widgets/base",
      "_view_module_version": "1.2.0",
      "_view_name": "StyleView",
      "description_width": ""
     }
    },
    "dcbf527f82ae4fb080430f6c0e4d730e": {
     "model_module": "@jupyter-widgets/controls",
     "model_module_version": "1.5.0",
     "model_name": "FloatProgressModel",
     "state": {
      "_dom_classes": [],
      "_model_module": "@jupyter-widgets/controls",
      "_model_module_version": "1.5.0",
      "_model_name": "FloatProgressModel",
      "_view_count": null,
      "_view_module": "@jupyter-widgets/controls",
      "_view_module_version": "1.5.0",
      "_view_name": "ProgressView",
      "bar_style": "success",
      "description": "",
      "description_tooltip": null,
      "layout": "IPY_MODEL_5aab0832224d42dea3f5552ff40c8224",
      "max": 1,
      "min": 0,
      "orientation": "horizontal",
      "style": "IPY_MODEL_7fa2d84364564f5bb41edc465114eb6a",
      "value": 1
     }
    },
    "e426960970d542a49ad1faa758ab73b0": {
     "model_module": "@jupyter-widgets/controls",
     "model_module_version": "1.5.0",
     "model_name": "ProgressStyleModel",
     "state": {
      "_model_module": "@jupyter-widgets/controls",
      "_model_module_version": "1.5.0",
      "_model_name": "ProgressStyleModel",
      "_view_count": null,
      "_view_module": "@jupyter-widgets/base",
      "_view_module_version": "1.2.0",
      "_view_name": "StyleView",
      "bar_color": null,
      "description_width": ""
     }
    },
    "e9138f69f568471398b7aa2f27026619": {
     "model_module": "@jupyter-widgets/base",
     "model_module_version": "1.2.0",
     "model_name": "LayoutModel",
     "state": {
      "_model_module": "@jupyter-widgets/base",
      "_model_module_version": "1.2.0",
      "_model_name": "LayoutModel",
      "_view_count": null,
      "_view_module": "@jupyter-widgets/base",
      "_view_module_version": "1.2.0",
      "_view_name": "LayoutView",
      "align_content": null,
      "align_items": null,
      "align_self": null,
      "border": null,
      "bottom": null,
      "display": null,
      "flex": null,
      "flex_flow": null,
      "grid_area": null,
      "grid_auto_columns": null,
      "grid_auto_flow": null,
      "grid_auto_rows": null,
      "grid_column": null,
      "grid_gap": null,
      "grid_row": null,
      "grid_template_areas": null,
      "grid_template_columns": null,
      "grid_template_rows": null,
      "height": null,
      "justify_content": null,
      "justify_items": null,
      "left": null,
      "margin": null,
      "max_height": null,
      "max_width": null,
      "min_height": null,
      "min_width": null,
      "object_fit": null,
      "object_position": null,
      "order": null,
      "overflow": null,
      "overflow_x": null,
      "overflow_y": null,
      "padding": null,
      "right": null,
      "top": null,
      "visibility": null,
      "width": null
     }
    },
    "e97e9c7e7a134ca0a5cd0aef4ffe55de": {
     "model_module": "@jupyter-widgets/controls",
     "model_module_version": "1.5.0",
     "model_name": "FloatProgressModel",
     "state": {
      "_dom_classes": [],
      "_model_module": "@jupyter-widgets/controls",
      "_model_module_version": "1.5.0",
      "_model_name": "FloatProgressModel",
      "_view_count": null,
      "_view_module": "@jupyter-widgets/controls",
      "_view_module_version": "1.5.0",
      "_view_name": "ProgressView",
      "bar_style": "danger",
      "description": "",
      "description_tooltip": null,
      "layout": "IPY_MODEL_04cd120c494a41189ad864aa2251b4bc",
      "max": 12585,
      "min": 0,
      "orientation": "horizontal",
      "style": "IPY_MODEL_49dfccea0ff34dc893ff560b93248244",
      "value": 108
     }
    },
    "ec286a941a834b3083c86c42a4dc0f08": {
     "model_module": "@jupyter-widgets/base",
     "model_module_version": "1.2.0",
     "model_name": "LayoutModel",
     "state": {
      "_model_module": "@jupyter-widgets/base",
      "_model_module_version": "1.2.0",
      "_model_name": "LayoutModel",
      "_view_count": null,
      "_view_module": "@jupyter-widgets/base",
      "_view_module_version": "1.2.0",
      "_view_name": "LayoutView",
      "align_content": null,
      "align_items": null,
      "align_self": null,
      "border": null,
      "bottom": null,
      "display": null,
      "flex": null,
      "flex_flow": null,
      "grid_area": null,
      "grid_auto_columns": null,
      "grid_auto_flow": null,
      "grid_auto_rows": null,
      "grid_column": null,
      "grid_gap": null,
      "grid_row": null,
      "grid_template_areas": null,
      "grid_template_columns": null,
      "grid_template_rows": null,
      "height": null,
      "justify_content": null,
      "justify_items": null,
      "left": null,
      "margin": null,
      "max_height": null,
      "max_width": null,
      "min_height": null,
      "min_width": null,
      "object_fit": null,
      "object_position": null,
      "order": null,
      "overflow": null,
      "overflow_x": null,
      "overflow_y": null,
      "padding": null,
      "right": null,
      "top": null,
      "visibility": null,
      "width": null
     }
    },
    "f1bdd26cf8964b58a0ddd555dc19d082": {
     "model_module": "@jupyter-widgets/base",
     "model_module_version": "1.2.0",
     "model_name": "LayoutModel",
     "state": {
      "_model_module": "@jupyter-widgets/base",
      "_model_module_version": "1.2.0",
      "_model_name": "LayoutModel",
      "_view_count": null,
      "_view_module": "@jupyter-widgets/base",
      "_view_module_version": "1.2.0",
      "_view_name": "LayoutView",
      "align_content": null,
      "align_items": null,
      "align_self": null,
      "border": null,
      "bottom": null,
      "display": null,
      "flex": null,
      "flex_flow": null,
      "grid_area": null,
      "grid_auto_columns": null,
      "grid_auto_flow": null,
      "grid_auto_rows": null,
      "grid_column": null,
      "grid_gap": null,
      "grid_row": null,
      "grid_template_areas": null,
      "grid_template_columns": null,
      "grid_template_rows": null,
      "height": null,
      "justify_content": null,
      "justify_items": null,
      "left": null,
      "margin": null,
      "max_height": null,
      "max_width": null,
      "min_height": null,
      "min_width": null,
      "object_fit": null,
      "object_position": null,
      "order": null,
      "overflow": null,
      "overflow_x": null,
      "overflow_y": null,
      "padding": null,
      "right": null,
      "top": null,
      "visibility": null,
      "width": null
     }
    },
    "f5147456c9384fa09aaaa5ce3d06b70b": {
     "model_module": "@jupyter-widgets/controls",
     "model_module_version": "1.5.0",
     "model_name": "HTMLModel",
     "state": {
      "_dom_classes": [],
      "_model_module": "@jupyter-widgets/controls",
      "_model_module_version": "1.5.0",
      "_model_name": "HTMLModel",
      "_view_count": null,
      "_view_module": "@jupyter-widgets/controls",
      "_view_module_version": "1.5.0",
      "_view_name": "HTMLView",
      "description": "",
      "description_tooltip": null,
      "layout": "IPY_MODEL_83470ca33d3b4a51a955a4d9881922cf",
      "placeholder": "​",
      "style": "IPY_MODEL_8492870e1bf542b28ae7e07ba952f787",
      "value": " 40/12585 [00:10&lt;49:14,  4.25 examples/s]"
     }
    },
    "f664ee66cb174894961084bac4458e64": {
     "model_module": "@jupyter-widgets/controls",
     "model_module_version": "1.5.0",
     "model_name": "DescriptionStyleModel",
     "state": {
      "_model_module": "@jupyter-widgets/controls",
      "_model_module_version": "1.5.0",
      "_model_name": "DescriptionStyleModel",
      "_view_count": null,
      "_view_module": "@jupyter-widgets/base",
      "_view_module_version": "1.2.0",
      "_view_name": "StyleView",
      "description_width": ""
     }
    },
    "fe59e229888d46b5add4d5615dcadec5": {
     "model_module": "@jupyter-widgets/controls",
     "model_module_version": "1.5.0",
     "model_name": "HBoxModel",
     "state": {
      "_dom_classes": [],
      "_model_module": "@jupyter-widgets/controls",
      "_model_module_version": "1.5.0",
      "_model_name": "HBoxModel",
      "_view_count": null,
      "_view_module": "@jupyter-widgets/controls",
      "_view_module_version": "1.5.0",
      "_view_name": "HBoxView",
      "box_style": "",
      "children": [
       "IPY_MODEL_77473cb7a8b3499087705787fcc8c697",
       "IPY_MODEL_bb74729de2db47fbb23ac43b88d54a8a",
       "IPY_MODEL_80553f6386ca432f86c088b1230466cf"
      ],
      "layout": "IPY_MODEL_1dd7048c5c874a4182ed6bc55d1044b1"
     }
    },
    "feb4417dd5c64fe5929b42943150e880": {
     "model_module": "@jupyter-widgets/base",
     "model_module_version": "1.2.0",
     "model_name": "LayoutModel",
     "state": {
      "_model_module": "@jupyter-widgets/base",
      "_model_module_version": "1.2.0",
      "_model_name": "LayoutModel",
      "_view_count": null,
      "_view_module": "@jupyter-widgets/base",
      "_view_module_version": "1.2.0",
      "_view_name": "LayoutView",
      "align_content": null,
      "align_items": null,
      "align_self": null,
      "border": null,
      "bottom": null,
      "display": null,
      "flex": null,
      "flex_flow": null,
      "grid_area": null,
      "grid_auto_columns": null,
      "grid_auto_flow": null,
      "grid_auto_rows": null,
      "grid_column": null,
      "grid_gap": null,
      "grid_row": null,
      "grid_template_areas": null,
      "grid_template_columns": null,
      "grid_template_rows": null,
      "height": null,
      "justify_content": null,
      "justify_items": null,
      "left": null,
      "margin": null,
      "max_height": null,
      "max_width": null,
      "min_height": null,
      "min_width": null,
      "object_fit": null,
      "object_position": null,
      "order": null,
      "overflow": null,
      "overflow_x": null,
      "overflow_y": null,
      "padding": null,
      "right": null,
      "top": null,
      "visibility": null,
      "width": null
     }
    }
   }
  }
 },
 "nbformat": 4,
 "nbformat_minor": 4
}
